{
 "cells": [
  {
   "cell_type": "code",
   "execution_count": 1,
   "metadata": {},
   "outputs": [
    {
     "name": "stdout",
     "output_type": "stream",
     "text": [
      "o2 agents_\n",
      "https://ai.pydantic.dev/agents/ - ai_pydantic_dev/agents\n",
      "o2 index\n",
      "https://ai.pydantic.dev - ai_pydantic_dev/index\n",
      "o2 agents_peacefully_id_123\n",
      "https://www.ai.pydantic.dev/agents/peacefully/id/123 - ai_pydantic_dev/agents_peacefully_id_123\n"
     ]
    }
   ],
   "source": [
    "import convert\n",
    "from urllib.parse import urlparse\n",
    "\n",
    "\n",
    "tests = ['https://ai.pydantic.dev/agents/',\n",
    "         'https://ai.pydantic.dev',\n",
    "         'https://www.ai.pydantic.dev/agents/peacefully/id/123']\n",
    "\n",
    "for ts in tests:\n",
    "    print(f\"{ts} - {convert.convert_url_file_name(ts)}\")\n",
    "    "
   ]
  }
 ],
 "metadata": {
  "kernelspec": {
   "display_name": ".venv",
   "language": "python",
   "name": "python3"
  },
  "language_info": {
   "codemirror_mode": {
    "name": "ipython",
    "version": 3
   },
   "file_extension": ".py",
   "mimetype": "text/x-python",
   "name": "python",
   "nbconvert_exporter": "python",
   "pygments_lexer": "ipython3",
   "version": "3.10.9"
  }
 },
 "nbformat": 4,
 "nbformat_minor": 2
}
