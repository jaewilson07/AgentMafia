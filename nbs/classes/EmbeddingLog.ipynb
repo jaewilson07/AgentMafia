{
    "cells": [
        {
            "cell_type": "code",
            "execution_count": 10,
            "metadata": {},
            "outputs": [],
            "source": [
                "#| default_exp classes.EmbeddingLog"
            ]
        },
        {
            "cell_type": "markdown",
            "metadata": {},
            "source": [
                "# Default Title (change me)\n",
                "> Default description (change me)"
            ]
        },
        {
            "cell_type": "code",
            "execution_count": 11,
            "metadata": {},
            "outputs": [],
            "source": [
                "#| exporti\n",
                "\n",
                "import datetime as dt\n",
                "from dataclasses import dataclass, field\n",
                "import json\n",
                "import os\n",
                "from typing import List, Dict\n",
                "\n",
                "\n",
                "import agent_mafia.utils as utils\n",
                "from agent_mafia.client.MafiaError import MafiaError"
            ]
        },
        {
            "cell_type": "code",
            "execution_count": 12,
            "metadata": {},
            "outputs": [],
            "source": [
                "#| hide\n",
                "import nbdev"
            ]
        },
        {
            "cell_type": "code",
            "execution_count": 13,
            "metadata": {},
            "outputs": [],
            "source": [
                "#| export\n",
                "class EmbeddingLog_Error(MafiaError):\n",
                "    def __init__(self, message, exception  = None):\n",
                "        super().__init__(message=message, exception=exception)"
            ]
        },
        {
            "cell_type": "code",
            "execution_count": 14,
            "metadata": {},
            "outputs": [],
            "source": [
                "#| export\n",
                "@dataclass\n",
                "class EmbeddingLog:\n",
                "    log_path: str\n",
                "\n",
                "    data: Dict[str, List[float]] = field(default_factory=dict)\n",
                "\n",
                "    def __post_init__(self):\n",
                "        if not os.path.exists(self.log_path):\n",
                "            utils.upsert_folder(self.log_path)\n",
                "\n",
                "        self.get()\n",
                "\n",
                "    def update_file(self):\n",
                "        data = self.data or {}\n",
                "        with open(self.log_path, mode=\"w+\", encoding=\"utf-8\") as f:\n",
                "            json.dump(data, f)\n",
                "\n",
                "        return True\n",
                "\n",
                "    @classmethod\n",
                "    def init(\n",
                "        cls, log_folder: str = \"./QUESTION_EMBEDDINGS\", is_reset_log: bool = False\n",
                "    ) -> str:  # log_path\n",
                "\n",
                "        log_path = f\"{log_folder}/{dt.date.today()}.json\"\n",
                "\n",
                "        log = cls(log_path=log_path)\n",
                "\n",
                "        if is_reset_log:\n",
                "            log.update_file()\n",
                "\n",
                "        return log\n",
                "\n",
                "    def get(self):\n",
                "        with open(self.log_path, mode=\"r+\", encoding=\"utf-8\") as f:\n",
                "            try:\n",
                "                self.data = json.load(f)\n",
                "\n",
                "            except json.decoder.JSONDecodeError:\n",
                "                self.update_file()\n",
                "\n",
                "        return self.data\n",
                "\n",
                "    def get_query_embedding(\n",
                "        self, user_query\n",
                "    ) -> List[\n",
                "        float\n",
                "    ]:  # returns entire log as dict or retrieves the embedding for a query  :\n",
                "\n",
                "        self.get()\n",
                "\n",
                "        return self.data.get(user_query, None)\n",
                "\n",
                "    def update_query_embedding(self, user_query, embedding):\n",
                "\n",
                "        if not isinstance(embedding, list) or not (\n",
                "            isinstance(embedding[0], float) or isinstance(embedding[0], int)\n",
                "        ):\n",
                "            raise EmbeddingLog_Error(message=\"invalid embedding - pass a List[float]\")\n",
                "\n",
                "        self.data.update({user_query: embedding})\n",
                "\n",
                "        self.update_file()"
            ]
        },
        {
            "cell_type": "code",
            "execution_count": 15,
            "metadata": {},
            "outputs": [],
            "source": [
                "#| hide\n",
                "nbdev.nbdev_export('./EmbeddingLog.ipynb')"
            ]
        }
    ],
    "metadata": {
        "jupytext": {
            "split_at_heading": true
        },
        "kernelspec": {
            "display_name": "Python 3",
            "language": "python",
            "name": "python3"
        },
        "language_info": {
            "codemirror_mode": {
                "name": "ipython",
                "version": 3
            },
            "file_extension": ".py",
            "mimetype": "text/x-python",
            "name": "python",
            "nbconvert_exporter": "python",
            "pygments_lexer": "ipython3",
            "version": "3.12.1"
        }
    },
    "nbformat": 4,
    "nbformat_minor": 4
}
