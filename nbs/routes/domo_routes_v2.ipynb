{
 "cells": [
  {
   "cell_type": "code",
   "execution_count": 1,
   "metadata": {},
   "outputs": [],
   "source": [
    "import domolibrary.client.get_data as gd\n",
    "import domolibrary.client.DomoError as dmde"
   ]
  },
  {
   "cell_type": "code",
   "execution_count": 8,
   "metadata": {},
   "outputs": [],
   "source": [
    "import domolibrary.client.DomoAuth as dmda\n",
    "import os\n",
    "\n",
    "#auth into domo instance\n",
    "auth = dmda.DomoTokenAuth(\n",
    "    domo_access_token=os.environ[\"DOMO_ACCESS_TOKEN\"],\n",
    "    domo_instance=os.environ[\"DOMO_INSTANCE\"],\n",
    ")\n",
    "\n",
    "await auth.who_am_i()\n",
    "\n",
    "# workflow variables\n",
    "model_id = \"48707704-213c-4c82-8a7d-69505b50a8de\"\n",
    "version_id = \"1.0.7\"\n",
    "# starting_block = \"Start%20HelpDeskMafia\""
   ]
  },
  {
   "cell_type": "markdown",
   "metadata": {},
   "source": [
    "### Get domo workflow information"
   ]
  },
  {
   "cell_type": "code",
   "execution_count": 9,
   "metadata": {},
   "outputs": [],
   "source": [
    "async def get_workflow(\n",
    "    auth: dmda.DomoAuth, model_id, version_id, debug_api: bool = False\n",
    "):\n",
    "\n",
    "    url = f\"https://{auth.domo_instance}.domo.com/api/workflow/v1/models/{model_id}/versions/{version_id}\"\n",
    "    res = await gd.get_data(auth=auth, method=\"GET\", url=url, debug_api=debug_api)\n",
    "\n",
    "    if not res.is_success:\n",
    "        raise dmde.RouteError(res=res)\n",
    "\n",
    "    return res"
   ]
  },
  {
   "cell_type": "code",
   "execution_count": 10,
   "metadata": {},
   "outputs": [
    {
     "name": "stdout",
     "output_type": "stream",
     "text": [
      "('{\"version\":2,\"designElements\":[{\"id\":\"rootNode\",\"type\":\"rootNode\",\"position\":{\"x\":60,\"y\":30},\"data\":{\"dimensions\":{\"width\":200,\"height\":60},\"title\":\"Start '\n",
      " 'HelpDeskMafia\",\"description\":\"\",\"type\":\"Start\",\"_designNode\":\"rootNode\",\"isFormStart\":true,\"input\":[{\"acceptsInput\":true,\"children\":[],\"customMappingType\":\"form_start\",\"dataType\":\"text\",\"datasetMapping\":null,\"displayName\":\"channel_id\",\"entitySubType\":null,\"fieldOptionsMappedTo\":null,\"fieldOptionsValue\":null,\"flag\":\"input\",\"formFieldId\":\"f8fd5581-9f00-493e-8436-050f2a7dc5d5\",\"formFieldType\":null,\"id\":\"mLIkhJAYwdDGwfB\",\"isList\":false,\"mappedTo\":\"AYTjlyjbwFiAdPY\",\"paramName\":\"channel_id\",\"required\":true,\"value\":null,\"visible\":true,\"configType\":\"forms\",\"useExternalValues\":false},{\"acceptsInput\":false,\"children\":[],\"customMappingType\":\"form_start\",\"dataType\":\"text\",\"datasetMapping\":null,\"displayName\":\"message_id\",\"entitySubType\":null,\"fieldOptionsMappedTo\":null,\"fieldOptionsValue\":null,\"flag\":\"input\",\"formFieldId\":\"5aab7003-af7d-4d10-87a9-5c9e5d5449e1\",\"formFieldType\":null,\"id\":\"tOZEHRLEhtaeaQC\",\"isList\":false,\"mappedTo\":\"DYkPHsxZPSejNfE\",\"paramName\":\"message_id\",\"required\":true,\"value\":null,\"visible\":true,\"configType\":\"forms\",\"useExternalValues\":false},{\"acceptsInput\":false,\"children\":[],\"customMappingType\":\"form_start\",\"dataType\":\"text\",\"datasetMapping\":null,\"displayName\":\"question\",\"entitySubType\":null,\"fieldOptionsMappedTo\":null,\"fieldOptionsValue\":null,\"flag\":\"input\",\"formFieldId\":\"33f92899-9cab-4133-b325-68ac09fce0e6\",\"formFieldType\":null,\"id\":\"JzlUAnZVSryLCcz\",\"isList\":false,\"mappedTo\":\"dNTcpVEMOjNotdS\",\"paramName\":\"question\",\"required\":true,\"value\":null,\"visible\":true,\"configType\":\"forms\",\"useExternalValues\":false},{\"acceptsInput\":false,\"children\":[],\"customMappingType\":\"form_start\",\"dataType\":\"text\",\"datasetMapping\":null,\"displayName\":\"user_id\",\"entitySubType\":null,\"fieldOptionsMappedTo\":null,\"fieldOptionsValue\":null,\"flag\":\"input\",\"formFieldId\":\"c127085f-9c02-4358-9e2a-53580a125102\",\"formFieldType\":null,\"id\":\"EsQSgxahEhWDtpE\",\"isList\":false,\"mappedTo\":\"KUNnCpGrFwdWRtc\",\"paramName\":\"user_id\",\"required\":true,\"value\":null,\"visible\":true,\"configType\":\"forms\",\"useExternalValues\":false}],\"output\":[],\"formId\":\"6564498b-8b99-47f0-84ab-b98dae1eefdb\",\"formTitle\":\"null\",\"formDescription\":\"null\"},\"style\":{\"zIndex\":3,\"outline\":\"none\"},\"index\":0},{\"id\":\"zXTsAKikLbRiJaK\",\"type\":\"AI_AGENT\",\"position\":{\"x\":60,\"y\":210},\"data\":{\"dimensions\":{\"width\":200,\"height\":60},\"title\":\"FindKB '\n",
      " 'Article\",\"description\":\"This agent takes an input question and attempts to '\n",
      " 'locate the most likely KB article and '\n",
      " 'answer.\",\"prompt\":{\"children\":[],\"configType\":null,\"customMappingType\":null,\"dataType\":\"text\",\"displayName\":\"Prompt\",\"entitySubType\":null,\"flag\":\"input\",\"id\":\"JveXnPQIDjKkKVr\",\"isList\":false,\"mappedTo\":null,\"paramName\":\"prompt\",\"required\":true,\"value\":[{\"type\":\"paragraph\",\"children\":[{\"text\":\"{\",\"bold\":false,\"italic\":false,\"underlined\":false,\"sql\":false}]},{\"type\":\"paragraph\",\"children\":[{\"text\":\"question: '\n",
      " '\",\"bold\":false,\"italic\":false,\"underlined\":false,\"sql\":false},{\"type\":\"variable\",\"children\":[{\"text\":\"\",\"bold\":false,\"italic\":false,\"underlined\":false,\"sql\":false}],\"dataType\":\"text\",\"id\":\"dNTcpVEMOjNotdS\",\"name\":\"question\",\"isList\":false},{\"text\":\",\",\"bold\":false,\"italic\":false,\"underlined\":false,\"sql\":false}]},{\"type\":\"paragraph\",\"children\":[{\"text\":\"channelId: '\n",
      " '\",\"bold\":false,\"italic\":false,\"underlined\":false,\"sql\":false},{\"type\":\"variable\",\"children\":[{\"text\":\"\",\"bold\":false,\"italic\":false,\"underlined\":false,\"sql\":false}],\"dataType\":\"text\",\"id\":\"AYTjlyjbwFiAdPY\",\"name\":\"channel_id\",\"isList\":false},{\"text\":\",\",\"bold\":false,\"italic\":false,\"underlined\":false,\"sql\":false}]},{\"type\":\"paragraph\",\"children\":[{\"text\":\"threadTs: '\n",
      " '\",\"bold\":false,\"italic\":false,\"underlined\":false,\"sql\":false},{\"type\":\"variable\",\"children\":[{\"text\":\"\",\"bold\":false,\"italic\":false,\"underlined\":false,\"sql\":false}],\"dataType\":\"text\",\"id\":\"DYkPHsxZPSejNfE\",\"name\":\"message_id\",\"isList\":false},{\"text\":\",\",\"bold\":false,\"italic\":false,\"underlined\":false,\"sql\":false}]},{\"type\":\"paragraph\",\"children\":[{\"text\":\"userId: '\n",
      " '\",\"bold\":false,\"italic\":false,\"underlined\":false,\"sql\":false},{\"type\":\"variable\",\"children\":[{\"text\":\"\",\"bold\":false,\"italic\":false,\"underlined\":false,\"sql\":false}],\"dataType\":\"text\",\"id\":\"KUNnCpGrFwdWRtc\",\"name\":\"user_id\",\"isList\":false},{\"text\":\"\",\"bold\":false,\"italic\":false,\"underlined\":false,\"sql\":false}]},{\"type\":\"paragraph\",\"children\":[{\"text\":\"}\",\"bold\":false,\"italic\":false,\"underlined\":false,\"sql\":false}]}],\"visible\":true,\"engineName\":\"prompt\"},\"inputMessages\":null,\"outputMessages\":null,\"result\":{\"children\":[{\"children\":[],\"configType\":null,\"customMappingType\":null,\"dataType\":\"text\",\"displayName\":\"\",\"entitySubType\":null,\"flag\":\"output\",\"id\":\"xOOhKMnJXxmqdds.hdQCvMlTZolGVuc\",\"isList\":false,\"mappedTo\":\"HXSADrsjrvFEFlo.EjpBMJacbpylcrJ.wvSdjyfCghmhzCm\",\"paramName\":\"answer\",\"required\":true,\"value\":null,\"visible\":true,\"engineName\":\"result.answer\"}],\"configType\":null,\"customMappingType\":null,\"dataType\":\"object\",\"displayName\":\"Result\",\"entitySubType\":null,\"flag\":\"output\",\"id\":\"xOOhKMnJXxmqdds\",\"isList\":false,\"mappedTo\":\"HXSADrsjrvFEFlo\",\"paramName\":\"result\",\"required\":true,\"value\":null,\"visible\":true,\"engineName\":\"result\"},\"agent\":{\"instructions\":\"Please '\n",
      " 'identify the top 10 paragraphs from the vectorDB and then attempt to answer '\n",
      " \"the user's question from the source information only.\\\\n\\\\nIf you don't get \"\n",
      " 'a good answer on the first try, you can expand the search space (number of '\n",
      " 'paragraphs to looks at) and try different more descriptive variations of the '\n",
      " 'users question.\\\\n\\\\nCan you summarize your response to under 200 '\n",
      " 'characters. Please ensure that you include the attempted answer and any '\n",
      " 'relevant urls from the knowledge base that you used to come up with the '\n",
      " 'response.\\\\n\\\\nPlease then reply to the slack channel based on the provided '\n",
      " 'channelId and '\n",
      " 'timestamp.\",\"tools\":[{\"packageId\":\"9a2f8f7a-b0bd-49d6-8bc7-641453b3df24\",\"packageVersion\":\"1.0.0\",\"functionName\":\"queryIndex\",\"functionDescription\":\"function '\n",
      " 'queries knowledge base articles and returns the most relevant paragraphs '\n",
      " 'from these articles; '\n",
      " '\",\"inputs\":[{\"children\":[],\"configType\":null,\"customMappingType\":null,\"dataType\":\"text\",\"displayName\":\"indexId\",\"entitySubType\":null,\"flag\":\"input\",\"id\":\"sJZakmCPIdurjzL\",\"isList\":false,\"mappedTo\":null,\"paramName\":\"indexId\",\"required\":true,\"value\":\"helpdeskmafia\",\"visible\":true,\"engineName\":\"indexId\"},{\"children\":[],\"configType\":null,\"customMappingType\":null,\"dataType\":\"text\",\"displayName\":\"input\",\"entitySubType\":null,\"flag\":\"input\",\"id\":\"UCrudlbIeOKxlVa\",\"isList\":false,\"mappedTo\":null,\"paramName\":\"input\",\"required\":true,\"value\":null,\"visible\":true,\"engineName\":\"input\"},{\"children\":[],\"configType\":null,\"customMappingType\":null,\"dataType\":\"number\",\"displayName\":\"topK\",\"entitySubType\":null,\"flag\":\"input\",\"id\":\"qIYmXCItMfGMsns\",\"isList\":false,\"mappedTo\":null,\"paramName\":\"topK\",\"required\":true,\"value\":null,\"visible\":true,\"engineName\":\"topK\"}],\"inputDescriptions\":{\"UCrudlbIeOKxlVa\":\"Input '\n",
      " 'question\",\"qIYmXCItMfGMsns\":\"number of results to '\n",
      " 'return\",\"sJZakmCPIdurjzL\":\"\"},\"output\":{\"children\":[],\"configType\":null,\"customMappingType\":null,\"dataType\":\"object\",\"displayName\":\"response\",\"entitySubType\":null,\"flag\":\"output\",\"id\":\"DrtlkvILZCroYJd\",\"isList\":false,\"mappedTo\":null,\"paramName\":\"response\",\"required\":false,\"value\":null,\"visible\":true,\"engineName\":\"response\"},\"id\":\"mbdUjBxtDvCRxcx\",\"name\":\"Query '\n",
      " 'Index\",\"type\":\"CODE_ENGINE_FUNCTION\",\"description\":\"function queries '\n",
      " 'knowledge base articles and returns the most relevant paragraphs from these '\n",
      " 'articles; '\n",
      " '\"},{\"packageId\":\"d56e620a-d53b-4385-a616-808529064967\",\"packageVersion\":\"1.0.1\",\"functionName\":\"sendThreadedMessageAxios\",\"functionDescription\":\"This '\n",
      " 'function sends a message and tags a user on slack. '\n",
      " '\",\"inputs\":[{\"children\":[],\"configType\":null,\"customMappingType\":null,\"dataType\":\"text\",\"displayName\":\"userId\",\"entitySubType\":null,\"flag\":\"input\",\"id\":\"owjLjMjtcwTwaOm\",\"isList\":false,\"mappedTo\":null,\"paramName\":\"userId\",\"required\":true,\"value\":null,\"visible\":true,\"engineName\":\"userId\"},{\"children\":[],\"configType\":null,\"customMappingType\":null,\"dataType\":\"text\",\"displayName\":\"channelId\",\"entitySubType\":null,\"flag\":\"input\",\"id\":\"fJezUFUCHjAPvfP\",\"isList\":false,\"mappedTo\":null,\"paramName\":\"channelId\",\"required\":true,\"value\":null,\"visible\":true,\"engineName\":\"channelId\"},{\"children\":[],\"configType\":null,\"customMappingType\":null,\"dataType\":\"text\",\"displayName\":\"threadTs\",\"entitySubType\":null,\"flag\":\"input\",\"id\":\"SIfNykzgQYKcpGQ\",\"isList\":false,\"mappedTo\":null,\"paramName\":\"threadTs\",\"required\":true,\"value\":null,\"visible\":true,\"engineName\":\"threadTs\"},{\"children\":[],\"configType\":null,\"customMappingType\":null,\"dataType\":\"text\",\"displayName\":\"message\",\"entitySubType\":null,\"flag\":\"input\",\"id\":\"JpEGNSlOqGCIUTM\",\"isList\":false,\"mappedTo\":null,\"paramName\":\"message\",\"required\":true,\"value\":null,\"visible\":true,\"engineName\":\"message\"}],\"inputDescriptions\":{\"JpEGNSlOqGCIUTM\":\"Answer '\n",
      " 'to users question\",\"SIfNykzgQYKcpGQ\":\"Message Id / '\n",
      " 'Timestamp\",\"fJezUFUCHjAPvfP\":\"Channel Id\",\"owjLjMjtcwTwaOm\":\"User '\n",
      " 'Id\"},\"output\":{\"children\":[{\"children\":[],\"configType\":null,\"customMappingType\":null,\"dataType\":\"boolean\",\"displayName\":\"ok\",\"entitySubType\":null,\"flag\":\"output\",\"id\":\"MqKjieDULaEdbFD.WDjaOMzAxitzbdk\",\"isList\":false,\"mappedTo\":null,\"paramName\":\"ok\",\"required\":false,\"value\":null,\"visible\":true,\"engineName\":\"result.ok\"},{\"children\":[],\"configType\":null,\"customMappingType\":null,\"dataType\":\"text\",\"displayName\":\"channel\",\"entitySubType\":null,\"flag\":\"output\",\"id\":\"MqKjieDULaEdbFD.rjJDEEmmzFJuvgd\",\"isList\":false,\"mappedTo\":null,\"paramName\":\"channel\",\"required\":false,\"value\":null,\"visible\":true,\"engineName\":\"result.channel\"},{\"children\":[],\"configType\":null,\"customMappingType\":null,\"dataType\":\"text\",\"displayName\":\"ts\",\"entitySubType\":null,\"flag\":\"output\",\"id\":\"MqKjieDULaEdbFD.RKpykmGFQlOXedH\",\"isList\":false,\"mappedTo\":null,\"paramName\":\"ts\",\"required\":false,\"value\":null,\"visible\":true,\"engineName\":\"result.ts\"},{\"children\":[],\"configType\":null,\"customMappingType\":null,\"dataType\":\"object\",\"displayName\":\"message\",\"entitySubType\":null,\"flag\":\"output\",\"id\":\"MqKjieDULaEdbFD.BGhnhsMtjpNBcVq\",\"isList\":false,\"mappedTo\":null,\"paramName\":\"message\",\"required\":false,\"value\":null,\"visible\":true,\"engineName\":\"result.message\"},{\"children\":[],\"configType\":null,\"customMappingType\":null,\"dataType\":\"text\",\"displayName\":\"warning\",\"entitySubType\":null,\"flag\":\"output\",\"id\":\"MqKjieDULaEdbFD.TijGSwVDkXpPHSA\",\"isList\":false,\"mappedTo\":null,\"paramName\":\"warning\",\"required\":false,\"value\":null,\"visible\":true,\"engineName\":\"result.warning\"},{\"children\":[],\"configType\":null,\"customMappingType\":null,\"dataType\":\"object\",\"displayName\":\"response_metadata\",\"entitySubType\":null,\"flag\":\"output\",\"id\":\"MqKjieDULaEdbFD.vpcAWNZkCEOUBtw\",\"isList\":false,\"mappedTo\":null,\"paramName\":\"response_metadata\",\"required\":false,\"value\":null,\"visible\":true,\"engineName\":\"result.response_metadata\"}],\"configType\":null,\"customMappingType\":null,\"dataType\":\"object\",\"displayName\":\"result\",\"entitySubType\":null,\"flag\":\"output\",\"id\":\"MqKjieDULaEdbFD\",\"isList\":false,\"mappedTo\":null,\"paramName\":\"result\",\"required\":false,\"value\":null,\"visible\":true,\"engineName\":\"result\"},\"id\":\"UhUQkTvHMgqRJjn\",\"name\":\"Send '\n",
      " 'Threaded Message Axios\",\"type\":\"CODE_ENGINE_FUNCTION\",\"description\":\"This '\n",
      " 'function sends a message and tags a user on slack. '\n",
      " '\"}],\"runTool\":true,\"isSolver\":false,\"outputDescriptions\":{\"xOOhKMnJXxmqdds\":\"answer '\n",
      " 'to the users '\n",
      " 'question\"}},\"_designNode\":\"AI_AGENT\"},\"style\":{\"zIndex\":4,\"outline\":\"none\"},\"index\":1},{\"id\":\"pYNRmCuxDmpzzJT\",\"type\":\"endNode\",\"position\":{\"x\":60,\"y\":380},\"data\":{\"dimensions\":{\"width\":200,\"height\":60},\"title\":\"End\",\"description\":\"\",\"_designNode\":\"endNode\",\"terminating\":false},\"style\":{\"zIndex\":3,\"outline\":\"none\"},\"index\":2},{\"id\":\"edge-rootNode-zXTsAKikLbRiJaK-zxIhHYnIilZwVpp\",\"type\":\"defaultEdge\",\"source\":\"rootNode\",\"target\":\"zXTsAKikLbRiJaK\",\"data\":{\"sourcePosition\":\"bottom\",\"targetPosition\":\"top\",\"path\":[[160,90],[160,209]],\"title\":\"\"},\"style\":{\"zIndex\":5},\"index\":3,\"arrowHeadType\":\"arrow\"},{\"id\":\"edge-zXTsAKikLbRiJaK-pYNRmCuxDmpzzJT-XlxdzsTfXywlyNd\",\"type\":\"defaultEdge\",\"source\":\"zXTsAKikLbRiJaK\",\"target\":\"pYNRmCuxDmpzzJT\",\"data\":{\"sourcePosition\":\"bottom\",\"targetPosition\":\"top\",\"path\":[[160,270],[160,379]],\"title\":\"\"},\"style\":{\"zIndex\":5},\"index\":4,\"arrowHeadType\":\"arrow\"}],\"dataList\":[{\"id\":\"AYTjlyjbwFiAdPY\",\"paramName\":\"channel_id\",\"dataType\":\"text\",\"isList\":false,\"children\":[],\"showChildren\":false,\"entitySubType\":null,\"value\":null},{\"id\":\"DYkPHsxZPSejNfE\",\"paramName\":\"message_id\",\"dataType\":\"text\",\"isList\":false,\"children\":[],\"showChildren\":false,\"entitySubType\":null,\"value\":null},{\"id\":\"dNTcpVEMOjNotdS\",\"paramName\":\"question\",\"dataType\":\"text\",\"isList\":false,\"children\":[],\"showChildren\":false,\"entitySubType\":null,\"value\":null},{\"id\":\"HXSADrsjrvFEFlo\",\"paramName\":\"result\",\"dataType\":\"object\",\"isList\":false,\"children\":[{\"id\":\"HXSADrsjrvFEFlo.EjpBMJacbpylcrJ.wvSdjyfCghmhzCm\",\"paramName\":\"answer\",\"dataType\":\"text\",\"isList\":false,\"children\":[],\"showChildren\":false,\"entitySubType\":null,\"value\":null}],\"showChildren\":false,\"entitySubType\":null,\"value\":null},{\"id\":\"KUNnCpGrFwdWRtc\",\"paramName\":\"user_id\",\"dataType\":\"text\",\"isList\":false,\"children\":[],\"showChildren\":false,\"entitySubType\":null,\"value\":null}]}')\n"
     ]
    }
   ],
   "source": [
    "res = await get_workflow(\n",
    "    auth=auth, model_id=model_id, version_id=version_id, debug_api=False\n",
    ")\n",
    "\n",
    "from pprint import pprint\n",
    "\n",
    "pprint(res.response[\"savedJson\"])"
   ]
  },
  {
   "cell_type": "markdown",
   "metadata": {},
   "source": [
    "### Trigger domo workflows"
   ]
  },
  {
   "cell_type": "code",
   "execution_count": 11,
   "metadata": {},
   "outputs": [],
   "source": [
    "import domolibrary.client.get_data as gd\n",
    "import domolibrary.client.DomoError as dmde\n",
    "\n",
    "\n",
    "def generate_trigger_workflow_body(starting_tile, model_id, version_id, execution_params : dict):\n",
    "    return {\n",
    "        \"messageName\": starting_tile,\n",
    "        \"version\": version_id,\n",
    "        \"modelId\": model_id,\n",
    "        \"data\": execution_params,\n",
    "    }\n",
    "\n",
    "\n",
    "async def trigger_workflow(\n",
    "    auth: dmda.DomoAuth,\n",
    "    starting_tile: str,\n",
    "    model_id: str,\n",
    "    version_id: str,\n",
    "    execution_parameters: dict = None,\n",
    "    debug_api: bool = False,\n",
    "):\n",
    "    body = generate_trigger_workflow_body(\n",
    "        starting_tile=starting_tile,\n",
    "        model_id=model_id,\n",
    "        execution_params=execution_parameters,\n",
    "        version_id=version_id\n",
    "    )\n",
    "\n",
    "    url = f\"https://{auth.domo_instance}.domo.com/api/workflow/v1/instances/message\"\n",
    "\n",
    "    res = await gd.get_data(\n",
    "        method=\"POST\", url=url, body=body, auth=auth, debug_api=debug_api\n",
    "    )\n",
    "\n",
    "    if not res.is_success:\n",
    "        raise dmde.RouteError(res=res)\n",
    "\n",
    "    return res"
   ]
  },
  {
   "cell_type": "markdown",
   "metadata": {},
   "source": [
    "### Sample trigger workflows\n",
    "* Requires execution parameters (question that will be asked of agent)\n",
    "* Requires starting tile name"
   ]
  },
  {
   "cell_type": "code",
   "execution_count": 12,
   "metadata": {},
   "outputs": [
    {
     "ename": "RouteError",
     "evalue": "🛑  RouteError 🛑 - function: get_traceback || status 400 || Bad Request at domo-community",
     "output_type": "error",
     "traceback": [
      "\u001b[31m---------------------------------------------------------------------------\u001b[39m",
      "\u001b[31mRouteError\u001b[39m                                Traceback (most recent call last)",
      "\u001b[36mCell\u001b[39m\u001b[36m \u001b[39m\u001b[32mIn[12]\u001b[39m\u001b[32m, line 4\u001b[39m\n\u001b[32m      1\u001b[39m execution_parameters = {\u001b[33m\"\u001b[39m\u001b[33mquestion\u001b[39m\u001b[33m\"\u001b[39m: \u001b[33m\"\u001b[39m\u001b[33mwhat is a beast mode\u001b[39m\u001b[33m\"\u001b[39m}\n\u001b[32m      2\u001b[39m starting_tile = \u001b[33m\"\u001b[39m\u001b[33mStart HelpDeskMafia\u001b[39m\u001b[33m\"\u001b[39m\n\u001b[32m----> \u001b[39m\u001b[32m4\u001b[39m res = \u001b[38;5;28;01mawait\u001b[39;00m trigger_workflow(\n\u001b[32m      5\u001b[39m     auth=auth,\n\u001b[32m      6\u001b[39m     starting_tile=starting_tile,\n\u001b[32m      7\u001b[39m     model_id=model_id,\n\u001b[32m      8\u001b[39m     version_id=version_id,\n\u001b[32m      9\u001b[39m     execution_parameters= execution_parameters,\n\u001b[32m     10\u001b[39m     debug_api=\u001b[38;5;28;01mFalse\u001b[39;00m,\n\u001b[32m     11\u001b[39m )\n\u001b[32m     12\u001b[39m res.response\n",
      "\u001b[36mCell\u001b[39m\u001b[36m \u001b[39m\u001b[32mIn[11]\u001b[39m\u001b[32m, line 36\u001b[39m, in \u001b[36mtrigger_workflow\u001b[39m\u001b[34m(auth, starting_tile, model_id, version_id, execution_parameters, debug_api)\u001b[39m\n\u001b[32m     31\u001b[39m res = \u001b[38;5;28;01mawait\u001b[39;00m gd.get_data(\n\u001b[32m     32\u001b[39m     method=\u001b[33m\"\u001b[39m\u001b[33mPOST\u001b[39m\u001b[33m\"\u001b[39m, url=url, body=body, auth=auth, debug_api=debug_api\n\u001b[32m     33\u001b[39m )\n\u001b[32m     35\u001b[39m \u001b[38;5;28;01mif\u001b[39;00m \u001b[38;5;129;01mnot\u001b[39;00m res.is_success:\n\u001b[32m---> \u001b[39m\u001b[32m36\u001b[39m     \u001b[38;5;28;01mraise\u001b[39;00m dmde.RouteError(res=res)\n\u001b[32m     38\u001b[39m \u001b[38;5;28;01mreturn\u001b[39;00m res\n",
      "\u001b[31mRouteError\u001b[39m: 🛑  RouteError 🛑 - function: get_traceback || status 400 || Bad Request at domo-community"
     ]
    }
   ],
   "source": [
    "execution_parameters = {\"question\": \"what is a beast mode\"}\n",
    "starting_tile = \"Start HelpDeskMafia\"\n",
    "\n",
    "res = await trigger_workflow(\n",
    "    auth=auth,\n",
    "    starting_tile=starting_tile,\n",
    "    model_id=model_id,\n",
    "    version_id=version_id,\n",
    "    execution_parameters= execution_parameters,\n",
    "    debug_api=False,\n",
    ")\n",
    "res.response\n"
   ]
  },
  {
   "cell_type": "markdown",
   "metadata": {},
   "source": [
    "### Get domo workflow trigger history and executions"
   ]
  },
  {
   "cell_type": "code",
   "execution_count": 13,
   "metadata": {},
   "outputs": [],
   "source": [
    "async def get_workflow_trigger_history(auth : dmda.DomoAuth, model_id, debug_api : bool = False):\n",
    "\n",
    "    url = f'https://{auth.domo_instance}.domo.com/api/workflow/v2/executions/{model_id}'\n",
    "\n",
    "    res = await gd.get_data(auth=auth, method=\"GET\", url=url, debug_api=debug_api)\n",
    "\n",
    "    if not res.is_success:\n",
    "        raise dmde.RouteError(res=res)\n",
    "    \n",
    "    return res\n"
   ]
  },
  {
   "cell_type": "code",
   "execution_count": 14,
   "metadata": {},
   "outputs": [
    {
     "name": "stdout",
     "output_type": "stream",
     "text": [
      "🐛 debugging get_data\n",
      "{'body': None,\n",
      " 'function_name': 'get_traceback',\n",
      " 'headers': {'Connection': 'keep-alive',\n",
      "             'Content-Type': 'application/json',\n",
      "             'accept': 'application/json, text/plain',\n",
      "             'x-domo-developer-token': '83ece44f1451d4b581e1191f98cd411164f0b5b6ad2755b3'},\n",
      " 'method': 'GET',\n",
      " 'params': None,\n",
      " 'parent_class': None,\n",
      " 'url': 'https://domo-community.domo.com/api/workflow/v2/executions/48707704-213c-4c82-8a7d-69505b50a8de'}\n",
      "get_data: no body\n",
      "get_data_response <Response [404 Not Found]>\n"
     ]
    }
   ],
   "source": [
    "try:\n",
    "    await get_workflow_trigger_history(auth = auth, model_id= model_id, debug_api= True)\n",
    "\n",
    "except Exception as e:\n",
    "    pass"
   ]
  },
  {
   "cell_type": "code",
   "execution_count": null,
   "metadata": {},
   "outputs": [],
   "source": [
    "async def get_workflow_executions(auth : dmda.DomoAuth,\n",
    "                                  model_id: str,\n",
    "                                  version_id: str,\n",
    "                                  debug_api : bool = False\n",
    "                                  ):\n",
    "    params = {\"modelId\" : model_id,\n",
    "            #   \"triggerTypes\" : \"ALERT,API,APP_STUDIO,CUSTOM_APP,MANUAL,TIMER,WORKFLOW\"\n",
    "              \"version\" : version_id,\n",
    "              # \"status\"  : \"IN_PROGRESS\"\n",
    "    }\n",
    "    \n",
    "    url = f\"https://{auth.domo_instance}.domo.com/api/workflow/v2/executions\"\n",
    "\n",
    "    res = await gd.get_data(auth=auth, method=\"GET\", url=url, debug_api=debug_api, params = params)\n",
    "\n",
    "    if not res.is_success:\n",
    "        raise dmde.RouteError(res=res)\n",
    "    \n",
    "    return res\n",
    "\n",
    "    "
   ]
  },
  {
   "cell_type": "markdown",
   "metadata": {},
   "source": [
    "res = await get_workflow_executions(auth = auth,\n",
    "                                  model_id = model_id,\n",
    "                                  version_id = version_id,\n",
    "                                  debug_api = True\n",
    ")\n",
    "\n",
    "res.response"
   ]
  },
  {
   "cell_type": "markdown",
   "metadata": {},
   "source": [
    "# Domo FileSets Routes"
   ]
  },
  {
   "cell_type": "markdown",
   "metadata": {},
   "source": [
    "### get one domo FileSet"
   ]
  },
  {
   "cell_type": "code",
   "execution_count": 43,
   "metadata": {},
   "outputs": [],
   "source": [
    "async def get_fileset(\n",
    "        auth: dmda.DomoAuth, domo_fileset_id, debug_api: bool = False\n",
    "):\n",
    "    url = f'https://{auth.domo_instance}.domo.com/api/files/v1/filesets/{domo_fileset_id}'\n",
    "    res = await gd.get_data(auth=auth, method='GET', url=url, debug_api=debug_api)\n",
    "\n",
    "    if not res.is_success:\n",
    "        raise dmde.RouteError(res=res, debug_api=debug_api)\n",
    "    \n",
    "    return res\n"
   ]
  },
  {
   "cell_type": "code",
   "execution_count": 44,
   "metadata": {},
   "outputs": [
    {
     "data": {
      "text/plain": [
       "ResponseGetData(status=200, response={'id': '30d51a7e-15f9-4dce-8284-be392c392f2d', 'name': 'Test AF', 'description': 'Upload photos', 'aiEnabled': False, 'batchType': 'INCREMENTAL', 'connector': 'DOMO', 'created': '2025-03-17T17:00:12.836646Z', 'createdBy': 2072616249, 'updated': '2025-03-17T17:00:15.828361Z', 'updatedBy': 2072616249, 'owner': '2072616249', 'accountId': 0, 'permission': 'OWNER', 'size': 922503, 'imageCount': 2, 'audioCount': 0, 'videoCount': 0, 'documentCount': 0, 'textCount': 0, 'otherCount': 0}, is_success=True, parent_class=None)"
      ]
     },
     "execution_count": 44,
     "metadata": {},
     "output_type": "execute_result"
    }
   ],
   "source": [
    "# Sample implementation of get fileset\n",
    "DOMO_FILESET_ID = '30d51a7e-15f9-4dce-8284-be392c392f2d'\n",
    "await get_fileset(auth=auth, domo_fileset_id = DOMO_FILESET_ID, debug_api=False)"
   ]
  },
  {
   "cell_type": "markdown",
   "metadata": {},
   "source": [
    "### get fileset files"
   ]
  },
  {
   "cell_type": "code",
   "execution_count": null,
   "metadata": {},
   "outputs": [],
   "source": [
    "async def get_fileset_files(\n",
    "        auth : dmda.DomoAuth, domo_fileset_id, body: dict = {}, debug_api: bool = False\n",
    "):\n",
    "    url = f'https://{auth.domo_instance}.domo.com/api/files/v1/filesets/{domo_fileset_id}/files/search?directoryPath=&immediateChildren=true'\n",
    "    \n",
    "    if not body:\n",
    "        # default body will pull all files within the given fileset_id\n",
    "        body = {\"fieldSort\":[{\"field\":\"created\",\"order\":\"DESC\"}],\"filters\":[],\"dateFilters\":[]}\n",
    "\n",
    "    res = await gd.get_data(auth=auth, method='POST', url=url, body=body, debug_api=debug_api)\n",
    "    if not res.is_success:\n",
    "        raise dmde.RouteError(res=res)\n",
    "    \n",
    "    return res\n"
   ]
  },
  {
   "cell_type": "code",
   "execution_count": 42,
   "metadata": {},
   "outputs": [
    {
     "data": {
      "text/plain": [
       "[{'id': 'dc9cf268-e88e-4031-b867-5f8e44598fbd',\n",
       "  'path': '2.jpg',\n",
       "  'name': '2.jpg',\n",
       "  'fileType': 'IMAGE',\n",
       "  'contentType': 'image/jpeg',\n",
       "  'size': 745364,\n",
       "  'created': '2025-03-17T17:00:15.606074Z',\n",
       "  'createdBy': 2072616249},\n",
       " {'id': '27800c7f-61b2-4e57-b600-fd5032de73cf',\n",
       "  'path': 'IMG_4220.jpg',\n",
       "  'name': 'IMG_4220.jpg',\n",
       "  'fileType': 'IMAGE',\n",
       "  'contentType': 'image/jpeg',\n",
       "  'size': 177139,\n",
       "  'created': '2025-03-17T17:00:14.059412Z',\n",
       "  'createdBy': 2072616249}]"
      ]
     },
     "execution_count": 42,
     "metadata": {},
     "output_type": "execute_result"
    }
   ],
   "source": [
    "# Sample implementation of get fileset files\n",
    "DOMO_FILESET_ID = '30d51a7e-15f9-4dce-8284-be392c392f2d'\n",
    "res = await get_fileset_files(auth=auth, domo_fileset_id = DOMO_FILESET_ID, debug_api=False)\n",
    "res.response['files']"
   ]
  },
  {
   "cell_type": "code",
   "execution_count": null,
   "metadata": {},
   "outputs": [],
   "source": []
  }
 ],
 "metadata": {
  "kernelspec": {
   "display_name": "Python 3",
   "language": "python",
   "name": "python3"
  },
  "language_info": {
   "codemirror_mode": {
    "name": "ipython",
    "version": 3
   },
   "file_extension": ".py",
   "mimetype": "text/x-python",
   "name": "python",
   "nbconvert_exporter": "python",
   "pygments_lexer": "ipython3",
   "version": "3.12.1"
  }
 },
 "nbformat": 4,
 "nbformat_minor": 2
}
