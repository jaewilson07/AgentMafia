{
    "cells": [
        {
            "cell_type": "code",
            "execution_count": 1,
            "metadata": {},
            "outputs": [],
            "source": [
                "#| default_exp routes.slack"
            ]
        },
        {
            "cell_type": "markdown",
            "metadata": {},
            "source": [
                "# Slack Routes\n",
                "> route functions for interacting with Slack via slackbolt\n",
                "\n",
                "## To create a slackbot\n",
                "1. Go to your Slack App settings (api.slack.com/apps)\n",
                "2. Under \"Event Subscriptions\", enable events\n",
                "3. Subscribe to these bot events:\n",
                "   - message.channels\n",
                "   - app_mentions\n",
                "\n",
                "4. Also verify that your bot has been:\n",
                "   - Added to the channel you're testing in\n",
                "   - Given the necessary OAuth scopes:\n",
                "      - chat:write\n",
                "      - app_mentions:read\n",
                "      - channels:history\n",
                "\n",
                "5. Deploy bot to a channel and \n",
                "6. update .env with requisite SLACK_BOT_TOKEN, SLACK_SIGNING_SECRET, SLACK_APP_TOKEN"
            ]
        },
        {
            "cell_type": "code",
            "execution_count": 2,
            "metadata": {},
            "outputs": [],
            "source": [
                "#| export\n",
                "from slack_bolt.async_app import AsyncApp as AsyncSlackApp\n",
                "from slack_sdk.errors import SlackApiError\n",
                "\n",
                "from agent_mafia.client.ResponseGetData import ResponseGetDataSlack"
            ]
        },
        {
            "cell_type": "code",
            "execution_count": 3,
            "metadata": {},
            "outputs": [],
            "source": [
                "#| exporti\n",
                "import datetime as dt\n",
                "import os\n",
                "from nbdev.showdoc import patch_to\n",
                "\n",
                "from agent_mafia.client.MafiaError import MafiaError "
            ]
        },
        {
            "cell_type": "code",
            "execution_count": 4,
            "metadata": {},
            "outputs": [],
            "source": [
                "#| hide \n",
                "import nbdev"
            ]
        },
        {
            "cell_type": "code",
            "execution_count": 5,
            "metadata": {},
            "outputs": [],
            "source": [
                "default_slack_app = AsyncSlackApp(\n",
                "    token=os.environ[\"SLACK_BOT_TOKEN\"],\n",
                "    signing_secret=os.environ[\"SLACK_SIGNING_SECRET\"],\n",
                ")\n",
                "\n",
                "channel_id = \"C08JLCQQYAU\""
            ]
        },
        {
            "cell_type": "code",
            "execution_count": 6,
            "metadata": {},
            "outputs": [],
            "source": [
                "#| exporti\n",
                "\n",
                "@patch_to(AsyncSlackApp)\n",
                "async def who_am_i(self):\n",
                "    res = await self.client.auth_test()\n",
                "\n",
                "    return ResponseGetDataSlack.from_res(res = res, async_app = self)\n"
            ]
        },
        {
            "cell_type": "code",
            "execution_count": 7,
            "metadata": {},
            "outputs": [
                {
                    "ename": "SlackApiError",
                    "evalue": "The request to the Slack API failed. (url: https://slack.com/api/auth.test, status: 200)\nThe server responded with: {'ok': False, 'error': 'invalid_auth'}",
                    "output_type": "error",
                    "traceback": [
                        "\u001b[0;31m---------------------------------------------------------------------------\u001b[0m",
                        "\u001b[0;31mSlackApiError\u001b[0m                             Traceback (most recent call last)",
                        "Cell \u001b[0;32mIn[7], line 1\u001b[0m\n\u001b[0;32m----> 1\u001b[0m \u001b[38;5;28;01mawait\u001b[39;00m default_slack_app\u001b[38;5;241m.\u001b[39mwho_am_i()\n",
                        "Cell \u001b[0;32mIn[6], line 5\u001b[0m, in \u001b[0;36mwho_am_i\u001b[0;34m(self)\u001b[0m\n\u001b[1;32m      3\u001b[0m \u001b[38;5;129m@patch_to\u001b[39m(AsyncSlackApp)\n\u001b[1;32m      4\u001b[0m \u001b[38;5;28;01masync\u001b[39;00m \u001b[38;5;28;01mdef\u001b[39;00m \u001b[38;5;21mwho_am_i\u001b[39m(\u001b[38;5;28mself\u001b[39m):\n\u001b[0;32m----> 5\u001b[0m     res \u001b[38;5;241m=\u001b[39m \u001b[38;5;28;01mawait\u001b[39;00m \u001b[38;5;28mself\u001b[39m\u001b[38;5;241m.\u001b[39mclient\u001b[38;5;241m.\u001b[39mauth_test()\n\u001b[1;32m      7\u001b[0m     \u001b[38;5;28;01mreturn\u001b[39;00m ResponseGetDataSlack\u001b[38;5;241m.\u001b[39mfrom_res(res \u001b[38;5;241m=\u001b[39m res, async_app \u001b[38;5;241m=\u001b[39m \u001b[38;5;28mself\u001b[39m)\n",
                        "File \u001b[0;32m~/.python/current/lib/python3.12/site-packages/slack_sdk/web/async_client.py:2081\u001b[0m, in \u001b[0;36mAsyncWebClient.auth_test\u001b[0;34m(self, **kwargs)\u001b[0m\n\u001b[1;32m   2074\u001b[0m \u001b[38;5;28;01masync\u001b[39;00m \u001b[38;5;28;01mdef\u001b[39;00m \u001b[38;5;21mauth_test\u001b[39m(\n\u001b[1;32m   2075\u001b[0m     \u001b[38;5;28mself\u001b[39m,\n\u001b[1;32m   2076\u001b[0m     \u001b[38;5;241m*\u001b[39m\u001b[38;5;241m*\u001b[39mkwargs,\n\u001b[1;32m   2077\u001b[0m ) \u001b[38;5;241m-\u001b[39m\u001b[38;5;241m>\u001b[39m AsyncSlackResponse:\n\u001b[1;32m   2078\u001b[0m \u001b[38;5;250m    \u001b[39m\u001b[38;5;124;03m\"\"\"Checks authentication & identity.\u001b[39;00m\n\u001b[1;32m   2079\u001b[0m \u001b[38;5;124;03m    https://api.slack.com/methods/auth.test\u001b[39;00m\n\u001b[1;32m   2080\u001b[0m \u001b[38;5;124;03m    \"\"\"\u001b[39;00m\n\u001b[0;32m-> 2081\u001b[0m     \u001b[38;5;28;01mreturn\u001b[39;00m \u001b[38;5;28;01mawait\u001b[39;00m \u001b[38;5;28mself\u001b[39m\u001b[38;5;241m.\u001b[39mapi_call(\u001b[38;5;124m\"\u001b[39m\u001b[38;5;124mauth.test\u001b[39m\u001b[38;5;124m\"\u001b[39m, params\u001b[38;5;241m=\u001b[39mkwargs)\n",
                        "File \u001b[0;32m~/.python/current/lib/python3.12/site-packages/slack_sdk/web/async_base_client.py:175\u001b[0m, in \u001b[0;36mAsyncBaseClient.api_call\u001b[0;34m(self, api_method, http_verb, files, data, params, json, headers, auth)\u001b[0m\n\u001b[1;32m    159\u001b[0m req_args \u001b[38;5;241m=\u001b[39m _build_req_args(\n\u001b[1;32m    160\u001b[0m     token\u001b[38;5;241m=\u001b[39m\u001b[38;5;28mself\u001b[39m\u001b[38;5;241m.\u001b[39mtoken,\n\u001b[1;32m    161\u001b[0m     http_verb\u001b[38;5;241m=\u001b[39mhttp_verb,\n\u001b[0;32m   (...)\u001b[0m\n\u001b[1;32m    170\u001b[0m     proxy\u001b[38;5;241m=\u001b[39m\u001b[38;5;28mself\u001b[39m\u001b[38;5;241m.\u001b[39mproxy,\n\u001b[1;32m    171\u001b[0m )\n\u001b[1;32m    173\u001b[0m show_deprecation_warning_if_any(api_method)\n\u001b[0;32m--> 175\u001b[0m \u001b[38;5;28;01mreturn\u001b[39;00m \u001b[38;5;28;01mawait\u001b[39;00m \u001b[38;5;28mself\u001b[39m\u001b[38;5;241m.\u001b[39m_send(\n\u001b[1;32m    176\u001b[0m     http_verb\u001b[38;5;241m=\u001b[39mhttp_verb,\n\u001b[1;32m    177\u001b[0m     api_url\u001b[38;5;241m=\u001b[39mapi_url,\n\u001b[1;32m    178\u001b[0m     req_args\u001b[38;5;241m=\u001b[39mreq_args,\n\u001b[1;32m    179\u001b[0m )\n",
                        "File \u001b[0;32m~/.python/current/lib/python3.12/site-packages/slack_sdk/web/async_base_client.py:215\u001b[0m, in \u001b[0;36mAsyncBaseClient._send\u001b[0;34m(self, http_verb, api_url, req_args)\u001b[0m\n\u001b[1;32m    207\u001b[0m         f\u001b[38;5;241m.\u001b[39mclose()\n\u001b[1;32m    209\u001b[0m data \u001b[38;5;241m=\u001b[39m {\n\u001b[1;32m    210\u001b[0m     \u001b[38;5;124m\"\u001b[39m\u001b[38;5;124mclient\u001b[39m\u001b[38;5;124m\"\u001b[39m: \u001b[38;5;28mself\u001b[39m,\n\u001b[1;32m    211\u001b[0m     \u001b[38;5;124m\"\u001b[39m\u001b[38;5;124mhttp_verb\u001b[39m\u001b[38;5;124m\"\u001b[39m: http_verb,\n\u001b[1;32m    212\u001b[0m     \u001b[38;5;124m\"\u001b[39m\u001b[38;5;124mapi_url\u001b[39m\u001b[38;5;124m\"\u001b[39m: api_url,\n\u001b[1;32m    213\u001b[0m     \u001b[38;5;124m\"\u001b[39m\u001b[38;5;124mreq_args\u001b[39m\u001b[38;5;124m\"\u001b[39m: req_args,\n\u001b[1;32m    214\u001b[0m }\n\u001b[0;32m--> 215\u001b[0m \u001b[38;5;28;01mreturn\u001b[39;00m \u001b[43mAsyncSlackResponse\u001b[49m\u001b[43m(\u001b[49m\u001b[38;5;241;43m*\u001b[39;49m\u001b[38;5;241;43m*\u001b[39;49m\u001b[43m{\u001b[49m\u001b[38;5;241;43m*\u001b[39;49m\u001b[38;5;241;43m*\u001b[39;49m\u001b[43mdata\u001b[49m\u001b[43m,\u001b[49m\u001b[43m \u001b[49m\u001b[38;5;241;43m*\u001b[39;49m\u001b[38;5;241;43m*\u001b[39;49m\u001b[43mres\u001b[49m\u001b[43m}\u001b[49m\u001b[43m)\u001b[49m\u001b[38;5;241;43m.\u001b[39;49m\u001b[43mvalidate\u001b[49m\u001b[43m(\u001b[49m\u001b[43m)\u001b[49m\n",
                        "File \u001b[0;32m~/.python/current/lib/python3.12/site-packages/slack_sdk/web/async_slack_response.py:203\u001b[0m, in \u001b[0;36mAsyncSlackResponse.validate\u001b[0;34m(self)\u001b[0m\n\u001b[1;32m    201\u001b[0m     \u001b[38;5;28;01mreturn\u001b[39;00m \u001b[38;5;28mself\u001b[39m\n\u001b[1;32m    202\u001b[0m msg \u001b[38;5;241m=\u001b[39m \u001b[38;5;124mf\u001b[39m\u001b[38;5;124m\"\u001b[39m\u001b[38;5;124mThe request to the Slack API failed. (url: \u001b[39m\u001b[38;5;132;01m{\u001b[39;00m\u001b[38;5;28mself\u001b[39m\u001b[38;5;241m.\u001b[39mapi_url\u001b[38;5;132;01m}\u001b[39;00m\u001b[38;5;124m, status: \u001b[39m\u001b[38;5;132;01m{\u001b[39;00m\u001b[38;5;28mself\u001b[39m\u001b[38;5;241m.\u001b[39mstatus_code\u001b[38;5;132;01m}\u001b[39;00m\u001b[38;5;124m)\u001b[39m\u001b[38;5;124m\"\u001b[39m\n\u001b[0;32m--> 203\u001b[0m \u001b[38;5;28;01mraise\u001b[39;00m e\u001b[38;5;241m.\u001b[39mSlackApiError(message\u001b[38;5;241m=\u001b[39mmsg, response\u001b[38;5;241m=\u001b[39m\u001b[38;5;28mself\u001b[39m)\n",
                        "\u001b[0;31mSlackApiError\u001b[0m: The request to the Slack API failed. (url: https://slack.com/api/auth.test, status: 200)\nThe server responded with: {'ok': False, 'error': 'invalid_auth'}"
                    ]
                }
            ],
            "source": [
                "await default_slack_app.who_am_i()"
            ]
        },
        {
            "cell_type": "code",
            "execution_count": null,
            "metadata": {},
            "outputs": [],
            "source": [
                "#| export\n",
                "\n",
                "async def get_channel_history(async_app: AsyncSlackApp, channel_id: str, return_raw: bool = False):\n",
                "    \n",
                "    try:\n",
                "        # Call the conversations.history method using the WebClient\n",
                "        # conversations.history returns the first 100 messages by default\n",
                "        # These results are paginated, see: https://api.slack.com/methods/conversations.history$pagination\n",
                "        res = await async_app.client.conversations_history(channel=channel_id)\n",
                "\n",
                "        rgd = ResponseGetDataSlack.from_res(res = res, async_app = async_app)\n",
                "\n",
                "        if return_raw:\n",
                "            return rgd\n",
                "        \n",
                "        rgd.response = res.data['messages']\n",
                "        return rgd\n",
                "\n",
                "    except SlackApiError as e:\n",
                "        raise MafiaError(exception = e, message = \"Error fetching conversation history\")\n"
            ]
        },
        {
            "cell_type": "code",
            "execution_count": null,
            "metadata": {},
            "outputs": [
                {
                    "data": {
                        "text/plain": [
                            "[{'user': 'U08J0GT9QAX',\n",
                            "  'type': 'message',\n",
                            "  'ts': '1742237263.728579',\n",
                            "  'edited': {'user': 'B08J0GT9G8K', 'ts': '1742237263.000000'},\n",
                            "  'bot_id': 'B08J0GT9G8K',\n",
                            "  'app_id': 'A08J92PTA7K',\n",
                            "  'text': 'Hello, World! updated 2025-03-17 18:47:43.824275',\n",
                            "  'team': 'T012H3JSC83',\n",
                            "  'bot_profile': {'id': 'B08J0GT9G8K',\n",
                            "   'deleted': False,\n",
                            "   'name': 'Emma_v2',\n",
                            "   'updated': 1742171723,\n",
                            "   'app_id': 'A08J92PTA7K',\n",
                            "   'icons': {'image_36': 'https://avatars.slack-edge.com/2025-03-16/8612624392195_32caa386e2553c6b47d2_36.webp',\n",
                            "    'image_48': 'https://avatars.slack-edge.com/2025-03-16/8612624392195_32caa386e2553c6b47d2_48.webp',\n",
                            "    'image_72': 'https://avatars.slack-edge.com/2025-03-16/8612624392195_32caa386e2553c6b47d2_72.webp'},\n",
                            "   'team_id': 'T012H3JSC83'},\n",
                            "  'blocks': [{'type': 'rich_text',\n",
                            "    'block_id': '36s',\n",
                            "    'elements': [{'type': 'rich_text_section',\n",
                            "      'elements': [{'type': 'text',\n",
                            "        'text': 'Hello, World! updated 2025-03-17 18:47:43.824275'}]}]}]},\n",
                            " {'user': 'U08J0GT9QAX',\n",
                            "  'type': 'message',\n",
                            "  'ts': '1742236686.493099',\n",
                            "  'bot_id': 'B08J0GT9G8K',\n",
                            "  'app_id': 'A08J92PTA7K',\n",
                            "  'text': 'Hello, world!',\n",
                            "  'team': 'T012H3JSC83',\n",
                            "  'bot_profile': {'id': 'B08J0GT9G8K',\n",
                            "   'app_id': 'A08J92PTA7K',\n",
                            "   'name': 'Emma_v2',\n",
                            "   'icons': {'image_36': 'https://avatars.slack-edge.com/2025-03-16/8612624392195_32caa386e2553c6b47d2_36.webp',\n",
                            "    'image_48': 'https://avatars.slack-edge.com/2025-03-16/8612624392195_32caa386e2553c6b47d2_48.webp',\n",
                            "    'image_72': 'https://avatars.slack-edge.com/2025-03-16/8612624392195_32caa386e2553c6b47d2_72.webp'},\n",
                            "   'deleted': False,\n",
                            "   'updated': 1742171723,\n",
                            "   'team_id': 'T012H3JSC83'},\n",
                            "  'blocks': [{'type': 'rich_text',\n",
                            "    'block_id': 'RRV',\n",
                            "    'elements': [{'type': 'rich_text_section',\n",
                            "      'elements': [{'type': 'text', 'text': 'Hello, world!'}]}]}]},\n",
                            " {'user': 'U012A577URL',\n",
                            "  'type': 'message',\n",
                            "  'ts': '1742232642.381019',\n",
                            "  'client_msg_id': '10541cba-2e3a-4bcd-973c-15cd7d6e4aee',\n",
                            "  'text': '<@U08J0GT9QAX> what is partitioning?',\n",
                            "  'team': 'T012H3JSC83',\n",
                            "  'thread_ts': '1742232642.381019',\n",
                            "  'reply_count': 2,\n",
                            "  'reply_users_count': 1,\n",
                            "  'latest_reply': '1742232661.572449',\n",
                            "  'reply_users': ['U08J0GT9QAX'],\n",
                            "  'is_locked': False,\n",
                            "  'subscribed': False,\n",
                            "  'blocks': [{'type': 'rich_text',\n",
                            "    'block_id': '6dfEV',\n",
                            "    'elements': [{'type': 'rich_text_section',\n",
                            "      'elements': [{'type': 'user', 'user_id': 'U08J0GT9QAX'},\n",
                            "       {'type': 'text', 'text': ' what is partitioning?'}]}]}]},\n",
                            " {'subtype': 'channel_join',\n",
                            "  'user': 'U03EF0517ED',\n",
                            "  'text': '<@U03EF0517ED> has joined the channel',\n",
                            "  'type': 'message',\n",
                            "  'ts': '1742232507.941979'},\n",
                            " {'user': 'U012A577URL',\n",
                            "  'type': 'message',\n",
                            "  'ts': '1742232427.416539',\n",
                            "  'client_msg_id': '189b8f2f-6c68-47b4-bd3b-391c4030e93c',\n",
                            "  'text': '<@U08J0GT9QAX> - what is pdp',\n",
                            "  'team': 'T012H3JSC83',\n",
                            "  'thread_ts': '1742232427.416539',\n",
                            "  'reply_count': 2,\n",
                            "  'reply_users_count': 1,\n",
                            "  'latest_reply': '1742232453.091599',\n",
                            "  'reply_users': ['U08J0GT9QAX'],\n",
                            "  'is_locked': False,\n",
                            "  'subscribed': False,\n",
                            "  'blocks': [{'type': 'rich_text',\n",
                            "    'block_id': '2JPc+',\n",
                            "    'elements': [{'type': 'rich_text_section',\n",
                            "      'elements': [{'type': 'user', 'user_id': 'U08J0GT9QAX'},\n",
                            "       {'type': 'text', 'text': ' - what is pdp'}]}]}]},\n",
                            " {'subtype': 'channel_join',\n",
                            "  'user': 'U03LNNY9YQM',\n",
                            "  'text': '<@U03LNNY9YQM> has joined the channel',\n",
                            "  'inviter': 'U012A577URL',\n",
                            "  'type': 'message',\n",
                            "  'ts': '1742231542.868719'},\n",
                            " {'user': 'U012A577URL',\n",
                            "  'type': 'message',\n",
                            "  'ts': '1742171316.283299',\n",
                            "  'client_msg_id': 'd8bd933b-6273-4c49-b08f-92dfa6574176',\n",
                            "  'text': '<@U08J0GT9QAX> what is a dataflow',\n",
                            "  'team': 'T012H3JSC83',\n",
                            "  'thread_ts': '1742171316.283299',\n",
                            "  'reply_count': 1,\n",
                            "  'reply_users_count': 1,\n",
                            "  'latest_reply': '1742171318.305509',\n",
                            "  'reply_users': ['U08J0GT9QAX'],\n",
                            "  'is_locked': False,\n",
                            "  'subscribed': False,\n",
                            "  'blocks': [{'type': 'rich_text',\n",
                            "    'block_id': 'ZIH1t',\n",
                            "    'elements': [{'type': 'rich_text_section',\n",
                            "      'elements': [{'type': 'user', 'user_id': 'U08J0GT9QAX'},\n",
                            "       {'type': 'text', 'text': ' what is a dataflow'}]}]}]},\n",
                            " {'user': 'U012A577URL',\n",
                            "  'type': 'message',\n",
                            "  'ts': '1742170961.284349',\n",
                            "  'client_msg_id': '20a3ca97-7e59-4c35-9445-5d879d8c9b31',\n",
                            "  'text': '<@U08J0GT9QAX> what is a domo dataflow',\n",
                            "  'team': 'T012H3JSC83',\n",
                            "  'thread_ts': '1742170961.284349',\n",
                            "  'reply_count': 1,\n",
                            "  'reply_users_count': 1,\n",
                            "  'latest_reply': '1742171325.031459',\n",
                            "  'reply_users': ['U08J0GT9QAX'],\n",
                            "  'is_locked': False,\n",
                            "  'subscribed': False,\n",
                            "  'blocks': [{'type': 'rich_text',\n",
                            "    'block_id': 'KmEIM',\n",
                            "    'elements': [{'type': 'rich_text_section',\n",
                            "      'elements': [{'type': 'user', 'user_id': 'U08J0GT9QAX'},\n",
                            "       {'type': 'text', 'text': ' what is a domo dataflow'}]}]}]},\n",
                            " {'user': 'U012A577URL',\n",
                            "  'type': 'message',\n",
                            "  'ts': '1742170669.423339',\n",
                            "  'client_msg_id': 'b260fb6e-69d6-4084-bb81-112793054d4e',\n",
                            "  'text': '<@U08J0GT9QAX> what is the captital of france',\n",
                            "  'team': 'T012H3JSC83',\n",
                            "  'blocks': [{'type': 'rich_text',\n",
                            "    'block_id': 'R7YHc',\n",
                            "    'elements': [{'type': 'rich_text_section',\n",
                            "      'elements': [{'type': 'user', 'user_id': 'U08J0GT9QAX'},\n",
                            "       {'type': 'text', 'text': ' what is the captital of france'}]}]}]},\n",
                            " {'user': 'U012A577URL',\n",
                            "  'type': 'message',\n",
                            "  'ts': '1742170527.888239',\n",
                            "  'client_msg_id': 'eb4930e1-c4c6-4385-9998-e572cf5c7644',\n",
                            "  'text': '<@U08J0GT9QAX> are you working?',\n",
                            "  'team': 'T012H3JSC83',\n",
                            "  'blocks': [{'type': 'rich_text',\n",
                            "    'block_id': 'zKsqi',\n",
                            "    'elements': [{'type': 'rich_text_section',\n",
                            "      'elements': [{'type': 'user', 'user_id': 'U08J0GT9QAX'},\n",
                            "       {'type': 'text', 'text': ' are you working?'}]}]}]},\n",
                            " {'subtype': 'channel_join',\n",
                            "  'user': 'U08J0GT9QAX',\n",
                            "  'text': '<@U08J0GT9QAX> has joined the channel',\n",
                            "  'inviter': 'U012A577URL',\n",
                            "  'type': 'message',\n",
                            "  'ts': '1742170523.139539'},\n",
                            " {'user': 'U012A577URL',\n",
                            "  'type': 'message',\n",
                            "  'ts': '1742169687.439619',\n",
                            "  'client_msg_id': '73b23c22-97ee-43f1-addb-0bb2716366a9',\n",
                            "  'text': '<@U06AQ3M5LQ2> what is a beast mode?',\n",
                            "  'team': 'T012H3JSC83',\n",
                            "  'blocks': [{'type': 'rich_text',\n",
                            "    'block_id': 'fOiFf',\n",
                            "    'elements': [{'type': 'rich_text_section',\n",
                            "      'elements': [{'type': 'user', 'user_id': 'U06AQ3M5LQ2'},\n",
                            "       {'type': 'text', 'text': ' what is a beast mode?'}]}]}]},\n",
                            " {'subtype': 'channel_join',\n",
                            "  'user': 'U06AQ3M5LQ2',\n",
                            "  'text': '<@U06AQ3M5LQ2> has joined the channel',\n",
                            "  'inviter': 'U012A577URL',\n",
                            "  'type': 'message',\n",
                            "  'ts': '1742169673.655749'},\n",
                            " {'user': 'U012A577URL',\n",
                            "  'type': 'message',\n",
                            "  'ts': '1742169669.168999',\n",
                            "  'client_msg_id': '270e10e7-b110-4737-bf77-ae5fe78e56d8',\n",
                            "  'text': '<@U06AQ3M5LQ2> what is a beast mode?',\n",
                            "  'team': 'T012H3JSC83',\n",
                            "  'blocks': [{'type': 'rich_text',\n",
                            "    'block_id': 'fOiFf',\n",
                            "    'elements': [{'type': 'rich_text_section',\n",
                            "      'elements': [{'type': 'user', 'user_id': 'U06AQ3M5LQ2'},\n",
                            "       {'type': 'text', 'text': ' what is a beast mode?'}]}]}]},\n",
                            " {'subtype': 'channel_join',\n",
                            "  'user': 'U012A577URL',\n",
                            "  'text': '<@U012A577URL> has joined the channel',\n",
                            "  'type': 'message',\n",
                            "  'ts': '1742169649.824579'}]"
                        ]
                    },
                    "execution_count": 10,
                    "metadata": {},
                    "output_type": "execute_result"
                }
            ],
            "source": [
                "(await get_channel_history(default_slack_app, channel_id=channel_id)).response"
            ]
        },
        {
            "cell_type": "code",
            "execution_count": null,
            "metadata": {},
            "outputs": [],
            "source": [
                "# | export\n",
                "async def post_message(\n",
                "    async_app: AsyncSlackApp,\n",
                "    channel_id: str,\n",
                "    new_text: str,\n",
                "    return_raw: bool = False\n",
                "):\n",
                "    try:\n",
                "        res = await async_app.client.chat_postMessage(channel=channel_id, text=new_text)\n",
                "\n",
                "        rgd = ResponseGetDataSlack.from_res(res=res, async_app=async_app, message_id = res.data['ts'])\n",
                "\n",
                "        if return_raw:\n",
                "            return rgd\n",
                "    \n",
                "        rgd.response = rgd.response['message']\n",
                "        return rgd\n",
                "\n",
                "    except SlackApiError as e:\n",
                "        raise MafiaError(message=\"Error posting message\", exception=e) from e"
            ]
        },
        {
            "cell_type": "code",
            "execution_count": null,
            "metadata": {},
            "outputs": [
                {
                    "data": {
                        "text/plain": [
                            "{'user': 'U08J0GT9QAX',\n",
                            " 'type': 'message',\n",
                            " 'ts': '1742238810.436289',\n",
                            " 'bot_id': 'B08J0GT9G8K',\n",
                            " 'app_id': 'A08J92PTA7K',\n",
                            " 'text': 'Hello, world!',\n",
                            " 'team': 'T012H3JSC83',\n",
                            " 'bot_profile': {'id': 'B08J0GT9G8K',\n",
                            "  'app_id': 'A08J92PTA7K',\n",
                            "  'name': 'Emma_v2',\n",
                            "  'icons': {'image_36': 'https://avatars.slack-edge.com/2025-03-16/8612624392195_32caa386e2553c6b47d2_36.webp',\n",
                            "   'image_48': 'https://avatars.slack-edge.com/2025-03-16/8612624392195_32caa386e2553c6b47d2_48.webp',\n",
                            "   'image_72': 'https://avatars.slack-edge.com/2025-03-16/8612624392195_32caa386e2553c6b47d2_72.webp'},\n",
                            "  'deleted': False,\n",
                            "  'updated': 1742171723,\n",
                            "  'team_id': 'T012H3JSC83'},\n",
                            " 'blocks': [{'type': 'rich_text',\n",
                            "   'block_id': 'acN',\n",
                            "   'elements': [{'type': 'rich_text_section',\n",
                            "     'elements': [{'type': 'text', 'text': 'Hello, world!'}]}]}]}"
                        ]
                    },
                    "execution_count": 12,
                    "metadata": {},
                    "output_type": "execute_result"
                }
            ],
            "source": [
                "res = await post_message(async_app=default_slack_app, channel_id=channel_id, new_text=\"Hello, world!\")\n",
                "res.response"
            ]
        },
        {
            "cell_type": "code",
            "execution_count": null,
            "metadata": {},
            "outputs": [],
            "source": [
                "# | export\n",
                "\n",
                "\n",
                "async def update_slack_message(\n",
                "    async_app: AsyncSlackApp,\n",
                "    channel_id: str,  # The ID of the channel where the message is located.\n",
                "    message_id: str,  # The timestamp of the message to update.\n",
                "    new_text,  # str The new text content for the message.\n",
                "    return_raw: bool = False,\n",
                "):\n",
                "    \"\"\"\n",
                "    Updates an existing Slack message.\n",
                "    \"\"\"\n",
                "    try:\n",
                "        res = await async_app.client.chat_update(\n",
                "            channel=channel_id, ts=message_id, text=new_text\n",
                "        )\n",
                "\n",
                "        rgd = ResponseGetDataSlack.from_res(\n",
                "            res=res,\n",
                "            async_app=async_app,\n",
                "            message_id=res.data[\"ts\"],\n",
                "            channel_id=res.data[\"channel\"],\n",
                "        )\n",
                "\n",
                "        if return_raw:\n",
                "            return rgd\n",
                "\n",
                "        rgd.response = rgd.response[\"message\"]\n",
                "\n",
                "        return rgd\n",
                "\n",
                "    except SlackApiError as e:\n",
                "        raise MafiaError(exception=e) from e"
            ]
        },
        {
            "cell_type": "code",
            "execution_count": null,
            "metadata": {},
            "outputs": [
                {
                    "data": {
                        "text/plain": [
                            "ResponseGetDataSlack(is_success=True, status=200, response={'user': 'U08J0GT9QAX', 'type': 'message', 'edited': {'user': 'B08J0GT9G8K', 'ts': '1742238810.000000'}, 'bot_id': 'B08J0GT9G8K', 'app_id': 'A08J92PTA7K', 'text': 'Hello, World! updated 2025-03-17 19:13:30.493061', 'team': 'T012H3JSC83', 'bot_profile': {'id': 'B08J0GT9G8K', 'app_id': 'A08J92PTA7K', 'name': 'Emma_v2', 'icons': {'image_36': 'https://avatars.slack-edge.com/2025-03-16/8612624392195_32caa386e2553c6b47d2_36.webp', 'image_48': 'https://avatars.slack-edge.com/2025-03-16/8612624392195_32caa386e2553c6b47d2_48.webp', 'image_72': 'https://avatars.slack-edge.com/2025-03-16/8612624392195_32caa386e2553c6b47d2_72.webp'}, 'deleted': False, 'updated': 1742171723, 'team_id': 'T012H3JSC83'}, 'blocks': [{'type': 'rich_text', 'block_id': 'Inb', 'elements': [{'type': 'rich_text_section', 'elements': [{'type': 'text', 'text': 'Hello, World! updated 2025-03-17 19:13:30.493061'}]}]}]}, channel_id='C08JLCQQYAU', message_id='1742238810.436289')"
                        ]
                    },
                    "execution_count": 14,
                    "metadata": {},
                    "output_type": "execute_result"
                }
            ],
            "source": [
                "await update_slack_message(\n",
                "    default_slack_app,\n",
                "    channel_id=channel_id,\n",
                "    message_id=res.message_id,\n",
                "    new_text=f\"Hello, World! updated {dt.datetime.now()}\",\n",
                ")"
            ]
        },
        {
            "cell_type": "code",
            "execution_count": null,
            "metadata": {},
            "outputs": [],
            "source": [
                "#| export\n",
                "async def delete_slack_message(\n",
                "    async_app: AsyncSlackApp,\n",
                "    channel_id: str, # The ID of the channel where the message is located.\n",
                "    message_id: str,  # The timestamp of the message to update.\n",
                "    return_raw : bool = False\n",
                "):\n",
                "    \"\"\"\n",
                "    Delete an existing Slack message.\n",
                "    \"\"\"\n",
                "    try:\n",
                "        res = await async_app.client.chat_delete(channel=channel_id, ts=message_id)\n",
                "\n",
                "        rgd = ResponseGetDataSlack.from_res(res=res, async_app=async_app, message_id = res.data['ts'],\n",
                "                                            channel_id = res.data['channel'])\n",
                "\n",
                "        if return_raw:\n",
                "            return rgd\n",
                "\n",
                "        rgd.response = res['ok']\n",
                "\n",
                "                                            \n",
                "        return rgd\n",
                "        \n",
                "    except SlackApiError as e:\n",
                "        raise MafiaError(exception = e) from e"
            ]
        },
        {
            "cell_type": "code",
            "execution_count": null,
            "metadata": {},
            "outputs": [
                {
                    "data": {
                        "text/plain": [
                            "ResponseGetDataSlack(is_success=True, status=200, response=True, channel_id='C08JLCQQYAU', message_id='1742238810.436289')"
                        ]
                    },
                    "execution_count": 16,
                    "metadata": {},
                    "output_type": "execute_result"
                }
            ],
            "source": [
                "await delete_slack_message(\n",
                "    default_slack_app,\n",
                "    channel_id=channel_id,\n",
                "    message_id=res.message_id,\n",
                ")"
            ]
        },
        {
            "cell_type": "code",
            "execution_count": null,
            "metadata": {},
            "outputs": [],
            "source": [
                "#| hide\n",
                "nbdev.nbdev_export('./slack.ipynb')"
            ]
        }
    ],
    "metadata": {
        "jupytext": {
            "split_at_heading": true
        },
        "kernelspec": {
            "display_name": "Python 3",
            "language": "python",
            "name": "python3"
        },
        "language_info": {
            "codemirror_mode": {
                "name": "ipython",
                "version": 3
            },
            "file_extension": ".py",
            "mimetype": "text/x-python",
            "name": "python",
            "nbconvert_exporter": "python",
            "pygments_lexer": "ipython3",
            "version": "3.12.1"
        }
    },
    "nbformat": 4,
    "nbformat_minor": 4
}
