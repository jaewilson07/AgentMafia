{
    "cells": [
        {
            "cell_type": "code",
            "execution_count": 1,
            "metadata": {},
            "outputs": [],
            "source": [
                "#| default_exp routes.slack"
            ]
        },
        {
            "cell_type": "markdown",
            "metadata": {},
            "source": [
                "# Slack Routes\n",
                "> route functions for interacting with Slack via slackbolt\n",
                "\n",
                "## To create a slackbot\n",
                "1. Go to your Slack App settings (api.slack.com/apps)\n",
                "2. Under \"Event Subscriptions\", enable events\n",
                "3. Subscribe to these bot events:\n",
                "   - message.channels\n",
                "   - app_mentions\n",
                "\n",
                "4. Also verify that your bot has been:\n",
                "   - Added to the channel you're testing in\n",
                "   - Given the necessary OAuth scopes:\n",
                "      - chat:write\n",
                "      - app_mentions:read\n",
                "      - channels:history\n",
                "\n",
                "5. Deploy bot to a channel and \n",
                "6. update .env with requisite SLACK_BOT_TOKEN, SLACK_SIGNING_SECRET, SLACK_APP_TOKEN"
            ]
        },
        {
            "cell_type": "code",
            "execution_count": 2,
            "metadata": {},
            "outputs": [],
            "source": [
                "#| export\n",
                "from slack_bolt.async_app import AsyncApp as AsyncSlackApp\n",
                "from slack_sdk.errors import SlackApiError\n",
                "\n",
                "from agent_mafia.client.ResponseGetData import ResponseGetDataSlack"
            ]
        },
        {
            "cell_type": "code",
            "execution_count": 3,
            "metadata": {},
            "outputs": [],
            "source": [
                "#| exporti\n",
                "from agent_mafia.client.MafiaError import MafiaError \n",
                "import os\n",
                "from nbdev.showdoc import patch_to"
            ]
        },
        {
            "cell_type": "code",
            "execution_count": 4,
            "metadata": {},
            "outputs": [],
            "source": [
                "default_slack_app = AsyncSlackApp(\n",
                "    token=os.environ[\"SLACK_BOT_TOKEN\"],\n",
                "    signing_secret=os.environ[\"SLACK_SIGNING_SECRET\"],\n",
                ")\n",
                "\n",
                "channel_id = \"C08JLCQQYAU\""
            ]
        },
        {
            "cell_type": "code",
            "execution_count": 5,
            "metadata": {},
            "outputs": [],
            "source": [
                "#| exporti\n",
                "\n",
                "@patch_to(AsyncSlackApp)\n",
                "async def who_am_i(self):\n",
                "    res = await self.client.auth_test()\n",
                "\n",
                "    return ResponseGetDataSlack.from_res(res = res, async_app = self)\n"
            ]
        },
        {
            "cell_type": "code",
            "execution_count": 6,
            "metadata": {},
            "outputs": [
                {
                    "data": {
                        "text/plain": [
                            "ResponseGetDataSlack(is_success=True, status=None, response={'ok': True, 'url': 'https://domousergroup.slack.com/', 'team': 'domo_user_group', 'user': 'emmav2', 'team_id': 'T012H3JSC83', 'user_id': 'U08J0GT9QAX', 'bot_id': 'B08J0GT9G8K', 'is_enterprise_install': False})"
                        ]
                    },
                    "execution_count": 6,
                    "metadata": {},
                    "output_type": "execute_result"
                }
            ],
            "source": [
                "await default_slack_app.who_am_i()"
            ]
        },
        {
            "cell_type": "code",
            "execution_count": 7,
            "metadata": {},
            "outputs": [],
            "source": [
                "#| export\n",
                "\n",
                "async def get_channel_history(async_app: AsyncSlackApp, channel_id: str, return_raw: bool = False):\n",
                "    # Store conversation history\n",
                "    # ID of the channel you want to send the message to\n",
                "\n",
                "    try:\n",
                "        # Call the conversations.history method using the WebClient\n",
                "        # conversations.history returns the first 100 messages by default\n",
                "        # These results are paginated, see: https://api.slack.com/methods/conversations.history$pagination\n",
                "        res = await async_app.client.conversations_history(channel=channel_id)\n",
                "\n",
                "        rgd = ResponseGetDataSlack.from_res(res = res, async_app = async_app)\n",
                "\n",
                "        if return_raw:\n",
                "            return rgd\n",
                "        \n",
                "        rgd.response = res.data['messages']\n",
                "        return rgd\n",
                "\n",
                "    except SlackApiError as e:\n",
                "        raise MafiaError(exception = e, message = \"Error fetching conversation history\")\n"
            ]
        },
        {
            "cell_type": "code",
            "execution_count": 8,
            "metadata": {},
            "outputs": [
                {
                    "data": {
                        "text/plain": [
                            "[{'user': 'U012A577URL',\n",
                            "  'type': 'message',\n",
                            "  'ts': '1742232642.381019',\n",
                            "  'client_msg_id': '10541cba-2e3a-4bcd-973c-15cd7d6e4aee',\n",
                            "  'text': '<@U08J0GT9QAX> what is partitioning?',\n",
                            "  'team': 'T012H3JSC83',\n",
                            "  'thread_ts': '1742232642.381019',\n",
                            "  'reply_count': 2,\n",
                            "  'reply_users_count': 1,\n",
                            "  'latest_reply': '1742232661.572449',\n",
                            "  'reply_users': ['U08J0GT9QAX'],\n",
                            "  'is_locked': False,\n",
                            "  'subscribed': False,\n",
                            "  'blocks': [{'type': 'rich_text',\n",
                            "    'block_id': '6dfEV',\n",
                            "    'elements': [{'type': 'rich_text_section',\n",
                            "      'elements': [{'type': 'user', 'user_id': 'U08J0GT9QAX'},\n",
                            "       {'type': 'text', 'text': ' what is partitioning?'}]}]}]},\n",
                            " {'subtype': 'channel_join',\n",
                            "  'user': 'U03EF0517ED',\n",
                            "  'text': '<@U03EF0517ED> has joined the channel',\n",
                            "  'type': 'message',\n",
                            "  'ts': '1742232507.941979'},\n",
                            " {'user': 'U012A577URL',\n",
                            "  'type': 'message',\n",
                            "  'ts': '1742232427.416539',\n",
                            "  'client_msg_id': '189b8f2f-6c68-47b4-bd3b-391c4030e93c',\n",
                            "  'text': '<@U08J0GT9QAX> - what is pdp',\n",
                            "  'team': 'T012H3JSC83',\n",
                            "  'thread_ts': '1742232427.416539',\n",
                            "  'reply_count': 2,\n",
                            "  'reply_users_count': 1,\n",
                            "  'latest_reply': '1742232453.091599',\n",
                            "  'reply_users': ['U08J0GT9QAX'],\n",
                            "  'is_locked': False,\n",
                            "  'subscribed': False,\n",
                            "  'blocks': [{'type': 'rich_text',\n",
                            "    'block_id': '2JPc+',\n",
                            "    'elements': [{'type': 'rich_text_section',\n",
                            "      'elements': [{'type': 'user', 'user_id': 'U08J0GT9QAX'},\n",
                            "       {'type': 'text', 'text': ' - what is pdp'}]}]}]},\n",
                            " {'subtype': 'channel_join',\n",
                            "  'user': 'U03LNNY9YQM',\n",
                            "  'text': '<@U03LNNY9YQM> has joined the channel',\n",
                            "  'inviter': 'U012A577URL',\n",
                            "  'type': 'message',\n",
                            "  'ts': '1742231542.868719'},\n",
                            " {'user': 'U012A577URL',\n",
                            "  'type': 'message',\n",
                            "  'ts': '1742171316.283299',\n",
                            "  'client_msg_id': 'd8bd933b-6273-4c49-b08f-92dfa6574176',\n",
                            "  'text': '<@U08J0GT9QAX> what is a dataflow',\n",
                            "  'team': 'T012H3JSC83',\n",
                            "  'thread_ts': '1742171316.283299',\n",
                            "  'reply_count': 1,\n",
                            "  'reply_users_count': 1,\n",
                            "  'latest_reply': '1742171318.305509',\n",
                            "  'reply_users': ['U08J0GT9QAX'],\n",
                            "  'is_locked': False,\n",
                            "  'subscribed': False,\n",
                            "  'blocks': [{'type': 'rich_text',\n",
                            "    'block_id': 'ZIH1t',\n",
                            "    'elements': [{'type': 'rich_text_section',\n",
                            "      'elements': [{'type': 'user', 'user_id': 'U08J0GT9QAX'},\n",
                            "       {'type': 'text', 'text': ' what is a dataflow'}]}]}]},\n",
                            " {'user': 'U012A577URL',\n",
                            "  'type': 'message',\n",
                            "  'ts': '1742170961.284349',\n",
                            "  'client_msg_id': '20a3ca97-7e59-4c35-9445-5d879d8c9b31',\n",
                            "  'text': '<@U08J0GT9QAX> what is a domo dataflow',\n",
                            "  'team': 'T012H3JSC83',\n",
                            "  'thread_ts': '1742170961.284349',\n",
                            "  'reply_count': 1,\n",
                            "  'reply_users_count': 1,\n",
                            "  'latest_reply': '1742171325.031459',\n",
                            "  'reply_users': ['U08J0GT9QAX'],\n",
                            "  'is_locked': False,\n",
                            "  'subscribed': False,\n",
                            "  'blocks': [{'type': 'rich_text',\n",
                            "    'block_id': 'KmEIM',\n",
                            "    'elements': [{'type': 'rich_text_section',\n",
                            "      'elements': [{'type': 'user', 'user_id': 'U08J0GT9QAX'},\n",
                            "       {'type': 'text', 'text': ' what is a domo dataflow'}]}]}]},\n",
                            " {'user': 'U012A577URL',\n",
                            "  'type': 'message',\n",
                            "  'ts': '1742170669.423339',\n",
                            "  'client_msg_id': 'b260fb6e-69d6-4084-bb81-112793054d4e',\n",
                            "  'text': '<@U08J0GT9QAX> what is the captital of france',\n",
                            "  'team': 'T012H3JSC83',\n",
                            "  'blocks': [{'type': 'rich_text',\n",
                            "    'block_id': 'R7YHc',\n",
                            "    'elements': [{'type': 'rich_text_section',\n",
                            "      'elements': [{'type': 'user', 'user_id': 'U08J0GT9QAX'},\n",
                            "       {'type': 'text', 'text': ' what is the captital of france'}]}]}]},\n",
                            " {'user': 'U012A577URL',\n",
                            "  'type': 'message',\n",
                            "  'ts': '1742170527.888239',\n",
                            "  'client_msg_id': 'eb4930e1-c4c6-4385-9998-e572cf5c7644',\n",
                            "  'text': '<@U08J0GT9QAX> are you working?',\n",
                            "  'team': 'T012H3JSC83',\n",
                            "  'blocks': [{'type': 'rich_text',\n",
                            "    'block_id': 'zKsqi',\n",
                            "    'elements': [{'type': 'rich_text_section',\n",
                            "      'elements': [{'type': 'user', 'user_id': 'U08J0GT9QAX'},\n",
                            "       {'type': 'text', 'text': ' are you working?'}]}]}]},\n",
                            " {'subtype': 'channel_join',\n",
                            "  'user': 'U08J0GT9QAX',\n",
                            "  'text': '<@U08J0GT9QAX> has joined the channel',\n",
                            "  'inviter': 'U012A577URL',\n",
                            "  'type': 'message',\n",
                            "  'ts': '1742170523.139539'},\n",
                            " {'user': 'U012A577URL',\n",
                            "  'type': 'message',\n",
                            "  'ts': '1742169687.439619',\n",
                            "  'client_msg_id': '73b23c22-97ee-43f1-addb-0bb2716366a9',\n",
                            "  'text': '<@U06AQ3M5LQ2> what is a beast mode?',\n",
                            "  'team': 'T012H3JSC83',\n",
                            "  'blocks': [{'type': 'rich_text',\n",
                            "    'block_id': 'fOiFf',\n",
                            "    'elements': [{'type': 'rich_text_section',\n",
                            "      'elements': [{'type': 'user', 'user_id': 'U06AQ3M5LQ2'},\n",
                            "       {'type': 'text', 'text': ' what is a beast mode?'}]}]}]},\n",
                            " {'subtype': 'channel_join',\n",
                            "  'user': 'U06AQ3M5LQ2',\n",
                            "  'text': '<@U06AQ3M5LQ2> has joined the channel',\n",
                            "  'inviter': 'U012A577URL',\n",
                            "  'type': 'message',\n",
                            "  'ts': '1742169673.655749'},\n",
                            " {'user': 'U012A577URL',\n",
                            "  'type': 'message',\n",
                            "  'ts': '1742169669.168999',\n",
                            "  'client_msg_id': '270e10e7-b110-4737-bf77-ae5fe78e56d8',\n",
                            "  'text': '<@U06AQ3M5LQ2> what is a beast mode?',\n",
                            "  'team': 'T012H3JSC83',\n",
                            "  'blocks': [{'type': 'rich_text',\n",
                            "    'block_id': 'fOiFf',\n",
                            "    'elements': [{'type': 'rich_text_section',\n",
                            "      'elements': [{'type': 'user', 'user_id': 'U06AQ3M5LQ2'},\n",
                            "       {'type': 'text', 'text': ' what is a beast mode?'}]}]}]},\n",
                            " {'subtype': 'channel_join',\n",
                            "  'user': 'U012A577URL',\n",
                            "  'text': '<@U012A577URL> has joined the channel',\n",
                            "  'type': 'message',\n",
                            "  'ts': '1742169649.824579'}]"
                        ]
                    },
                    "execution_count": 8,
                    "metadata": {},
                    "output_type": "execute_result"
                }
            ],
            "source": [
                "(await get_channel_history(default_slack_app, channel_id=channel_id)).response"
            ]
        },
        {
            "cell_type": "code",
            "execution_count": 9,
            "metadata": {},
            "outputs": [],
            "source": [
                "# # | export\n",
                "# async def update_slack_message(\n",
                "#     async_app: AsyncSlackApp,\n",
                "#     channel_id: str,\n",
                "#     message_id: str,  # message timestamp,\n",
                "#     new_text,  # str,\n",
                "#     debug_prn: bool = False\n",
                "# ):\n",
                "#     \"\"\"\n",
                "#     Updates an existing Slack message.\n",
                "\n",
                "#     Args:\n",
                "#         channel_id (str): The ID of the channel where the message is located.\n",
                "#         timestamp (str): The timestamp of the message to update.\n",
                "#         new_text (str): The new text content for the message.\n",
                "#     \"\"\"\n",
                "#     try:\n",
                "#         return await async_app.client.chat_update(channel=channel_id, ts=message_id, text=new_text)\n",
                "#         if debug_prn:\n",
                "#             print(f\"Message updated successfully in channel {channel_id} at {message_id}\")\n",
                "#     except SlackApiError as e:\n",
                "#         raise MafiaError(exception = e) from e"
            ]
        },
        {
            "cell_type": "code",
            "execution_count": 10,
            "metadata": {},
            "outputs": [],
            "source": [
                "\n",
                "# await update_slack_message(default_slack_app, \"C08JLCQQYAU\", \"1627480000.000100\", \"Hello, World!\")"
            ]
        },
        {
            "cell_type": "code",
            "execution_count": 11,
            "metadata": {},
            "outputs": [],
            "source": [
                "# #| export\n",
                "# def post_initial_message(channel_id, initial_text, app):\n",
                "#     try:\n",
                "#         result = app.client.chat_postMessage(channel=channel_id, text=initial_text)\n",
                "#         return result[\"ts\"]  # return timestamp.\n",
                "#     except Exception as e:\n",
                "#         print(f\"Error posting initial message: {e}\")\n",
                "#         return None"
            ]
        }
    ],
    "metadata": {
        "jupytext": {
            "split_at_heading": true
        },
        "kernelspec": {
            "display_name": "Python 3",
            "language": "python",
            "name": "python3"
        },
        "language_info": {
            "codemirror_mode": {
                "name": "ipython",
                "version": 3
            },
            "file_extension": ".py",
            "mimetype": "text/x-python",
            "name": "python",
            "nbconvert_exporter": "python",
            "pygments_lexer": "ipython3",
            "version": "3.12.1"
        }
    },
    "nbformat": 4,
    "nbformat_minor": 4
}
