{
    "cells": [
        {
            "cell_type": "code",
            "execution_count": 9,
            "metadata": {},
            "outputs": [],
            "source": [
                "#| default_exp routes.slack"
            ]
        },
        {
            "cell_type": "markdown",
            "metadata": {},
            "source": [
                "# Slack Routes\n",
                "> route functions for interacting with Slack via slackbolt\n",
                "\n",
                "## To create a slackbot\n",
                "1. Go to your Slack App settings (api.slack.com/apps)\n",
                "2. Under \"Event Subscriptions\", enable events\n",
                "3. Subscribe to these bot events:\n",
                "   - message.channels\n",
                "   - app_mentions\n",
                "\n",
                "4. Also verify that your bot has been:\n",
                "   - Added to the channel you're testing in\n",
                "   - Given the necessary OAuth scopes:\n",
                "      - chat:write\n",
                "      - app_mentions:read\n",
                "      - channels:history\n",
                "\n",
                "5. Deploy bot to a channel and \n",
                "6. update .env with requisite SLACK_BOT_TOKEN, SLACK_SIGNING_SECRET, SLACK_APP_TOKEN"
            ]
        },
        {
            "cell_type": "code",
            "execution_count": 19,
            "metadata": {},
            "outputs": [],
            "source": [
                "#| export\n",
                "from slack_bolt.async_app import AsyncApp as AsyncSlackApp\n",
                "from slack_sdk.errors import SlackApiError\n",
                "\n",
                "from agent_mafia.client.ResponseGetData import ResponseGetDataSlack"
            ]
        },
        {
            "cell_type": "code",
            "execution_count": 21,
            "metadata": {},
            "outputs": [],
            "source": [
                "#| exporti\n",
                "from agent_mafia.client.MafiaError import MafiaError \n",
                "import os\n",
                "from nbdev.showdoc import patch_to"
            ]
        },
        {
            "cell_type": "code",
            "execution_count": 31,
            "metadata": {},
            "outputs": [],
            "source": [
                "#| exporti\n",
                "\n",
                "@patch_to(AsyncSlackApp)\n",
                "async def who_am_i(self):\n",
                "    res = await self.client.auth_test()\n",
                "\n",
                "    return res\n",
                "\n",
                "    return ResponseGetDataSlack(\n",
                "        is_success=res[\"ok\"],\n",
                "        response=res['data'],\n",
                "        status = res['status'],\n",
                "        app = self\n",
                "    )\n"
            ]
        },
        {
            "cell_type": "code",
            "execution_count": 37,
            "metadata": {},
            "outputs": [
                {
                    "data": {
                        "text/plain": [
                            "slack_sdk.web.async_slack_response.AsyncSlackResponse"
                        ]
                    },
                    "execution_count": 37,
                    "metadata": {},
                    "output_type": "execute_result"
                }
            ],
            "source": [
                "# | export\n",
                "\n",
                "default_slack_app = AsyncSlackApp(\n",
                "    token=os.environ[\"SLACK_BOT_TOKEN\"],\n",
                "    signing_secret=os.environ[\"SLACK_SIGNING_SECRET\"],\n",
                ")\n",
                "\n",
                "res = await default_slack_app.who_am_i()\n",
                "type(res)\n",
                "# channel_id = \"C08JLCQQYAU\""
            ]
        },
        {
            "cell_type": "code",
            "execution_count": 14,
            "metadata": {},
            "outputs": [],
            "source": [
                "#| export\n",
                "\n",
                "async def get_channel_history(async_app: AsyncSlackApp, channel_id: str):\n",
                "    # Store conversation history\n",
                "    # ID of the channel you want to send the message to\n",
                "\n",
                "    try:\n",
                "        # Call the conversations.history method using the WebClient\n",
                "        # conversations.history returns the first 100 messages by default\n",
                "        # These results are paginated, see: https://api.slack.com/methods/conversations.history$pagination\n",
                "        res = await async_app.client.conversations_history(channel=channel_id)\n",
                "\n",
                "        return res \n",
                "\n",
                "\n",
                "    except SlackApiError as e:\n",
                "        raise MafiaError(exception = e, message = \"Error fetching conversation history\")\n"
            ]
        },
        {
            "cell_type": "code",
            "execution_count": 15,
            "metadata": {},
            "outputs": [
                {
                    "name": "stdout",
                    "output_type": "stream",
                    "text": [
                        "{'ok': True, 'messages': [{'user': 'U012A577URL', 'type': 'message', 'ts': '1742232642.381019', 'client_msg_id': '10541cba-2e3a-4bcd-973c-15cd7d6e4aee', 'text': '<@U08J0GT9QAX> what is partitioning?', 'team': 'T012H3JSC83', 'thread_ts': '1742232642.381019', 'reply_count': 2, 'reply_users_count': 1, 'latest_reply': '1742232661.572449', 'reply_users': ['U08J0GT9QAX'], 'is_locked': False, 'subscribed': False, 'blocks': [{'type': 'rich_text', 'block_id': '6dfEV', 'elements': [{'type': 'rich_text_section', 'elements': [{'type': 'user', 'user_id': 'U08J0GT9QAX'}, {'type': 'text', 'text': ' what is partitioning?'}]}]}]}, {'subtype': 'channel_join', 'user': 'U03EF0517ED', 'text': '<@U03EF0517ED> has joined the channel', 'type': 'message', 'ts': '1742232507.941979'}, {'user': 'U012A577URL', 'type': 'message', 'ts': '1742232427.416539', 'client_msg_id': '189b8f2f-6c68-47b4-bd3b-391c4030e93c', 'text': '<@U08J0GT9QAX> - what is pdp', 'team': 'T012H3JSC83', 'thread_ts': '1742232427.416539', 'reply_count': 2, 'reply_users_count': 1, 'latest_reply': '1742232453.091599', 'reply_users': ['U08J0GT9QAX'], 'is_locked': False, 'subscribed': False, 'blocks': [{'type': 'rich_text', 'block_id': '2JPc+', 'elements': [{'type': 'rich_text_section', 'elements': [{'type': 'user', 'user_id': 'U08J0GT9QAX'}, {'type': 'text', 'text': ' - what is pdp'}]}]}]}, {'subtype': 'channel_join', 'user': 'U03LNNY9YQM', 'text': '<@U03LNNY9YQM> has joined the channel', 'inviter': 'U012A577URL', 'type': 'message', 'ts': '1742231542.868719'}, {'user': 'U012A577URL', 'type': 'message', 'ts': '1742171316.283299', 'client_msg_id': 'd8bd933b-6273-4c49-b08f-92dfa6574176', 'text': '<@U08J0GT9QAX> what is a dataflow', 'team': 'T012H3JSC83', 'thread_ts': '1742171316.283299', 'reply_count': 1, 'reply_users_count': 1, 'latest_reply': '1742171318.305509', 'reply_users': ['U08J0GT9QAX'], 'is_locked': False, 'subscribed': False, 'blocks': [{'type': 'rich_text', 'block_id': 'ZIH1t', 'elements': [{'type': 'rich_text_section', 'elements': [{'type': 'user', 'user_id': 'U08J0GT9QAX'}, {'type': 'text', 'text': ' what is a dataflow'}]}]}]}, {'user': 'U012A577URL', 'type': 'message', 'ts': '1742170961.284349', 'client_msg_id': '20a3ca97-7e59-4c35-9445-5d879d8c9b31', 'text': '<@U08J0GT9QAX> what is a domo dataflow', 'team': 'T012H3JSC83', 'thread_ts': '1742170961.284349', 'reply_count': 1, 'reply_users_count': 1, 'latest_reply': '1742171325.031459', 'reply_users': ['U08J0GT9QAX'], 'is_locked': False, 'subscribed': False, 'blocks': [{'type': 'rich_text', 'block_id': 'KmEIM', 'elements': [{'type': 'rich_text_section', 'elements': [{'type': 'user', 'user_id': 'U08J0GT9QAX'}, {'type': 'text', 'text': ' what is a domo dataflow'}]}]}]}, {'user': 'U012A577URL', 'type': 'message', 'ts': '1742170669.423339', 'client_msg_id': 'b260fb6e-69d6-4084-bb81-112793054d4e', 'text': '<@U08J0GT9QAX> what is the captital of france', 'team': 'T012H3JSC83', 'blocks': [{'type': 'rich_text', 'block_id': 'R7YHc', 'elements': [{'type': 'rich_text_section', 'elements': [{'type': 'user', 'user_id': 'U08J0GT9QAX'}, {'type': 'text', 'text': ' what is the captital of france'}]}]}]}, {'user': 'U012A577URL', 'type': 'message', 'ts': '1742170527.888239', 'client_msg_id': 'eb4930e1-c4c6-4385-9998-e572cf5c7644', 'text': '<@U08J0GT9QAX> are you working?', 'team': 'T012H3JSC83', 'blocks': [{'type': 'rich_text', 'block_id': 'zKsqi', 'elements': [{'type': 'rich_text_section', 'elements': [{'type': 'user', 'user_id': 'U08J0GT9QAX'}, {'type': 'text', 'text': ' are you working?'}]}]}]}, {'subtype': 'channel_join', 'user': 'U08J0GT9QAX', 'text': '<@U08J0GT9QAX> has joined the channel', 'inviter': 'U012A577URL', 'type': 'message', 'ts': '1742170523.139539'}, {'user': 'U012A577URL', 'type': 'message', 'ts': '1742169687.439619', 'client_msg_id': '73b23c22-97ee-43f1-addb-0bb2716366a9', 'text': '<@U06AQ3M5LQ2> what is a beast mode?', 'team': 'T012H3JSC83', 'blocks': [{'type': 'rich_text', 'block_id': 'fOiFf', 'elements': [{'type': 'rich_text_section', 'elements': [{'type': 'user', 'user_id': 'U06AQ3M5LQ2'}, {'type': 'text', 'text': ' what is a beast mode?'}]}]}]}, {'subtype': 'channel_join', 'user': 'U06AQ3M5LQ2', 'text': '<@U06AQ3M5LQ2> has joined the channel', 'inviter': 'U012A577URL', 'type': 'message', 'ts': '1742169673.655749'}, {'user': 'U012A577URL', 'type': 'message', 'ts': '1742169669.168999', 'client_msg_id': '270e10e7-b110-4737-bf77-ae5fe78e56d8', 'text': '<@U06AQ3M5LQ2> what is a beast mode?', 'team': 'T012H3JSC83', 'blocks': [{'type': 'rich_text', 'block_id': 'fOiFf', 'elements': [{'type': 'rich_text_section', 'elements': [{'type': 'user', 'user_id': 'U06AQ3M5LQ2'}, {'type': 'text', 'text': ' what is a beast mode?'}]}]}]}, {'subtype': 'channel_join', 'user': 'U012A577URL', 'text': '<@U012A577URL> has joined the channel', 'type': 'message', 'ts': '1742169649.824579'}], 'has_more': False, 'is_limited': False, 'pin_count': 0, 'channel_actions_ts': None, 'channel_actions_count': 0}\n"
                    ]
                }
            ],
            "source": [
                "print(await get_channel_history(default_slack_app, channel_id=channel_id))"
            ]
        },
        {
            "cell_type": "code",
            "execution_count": 16,
            "metadata": {},
            "outputs": [],
            "source": [
                "# | export\n",
                "async def update_slack_message(\n",
                "    async_app: AsyncSlackApp,\n",
                "    channel_id: str,\n",
                "    message_id: str,  # message timestamp,\n",
                "    new_text,  # str,\n",
                "    debug_prn: bool = False\n",
                "):\n",
                "    \"\"\"\n",
                "    Updates an existing Slack message.\n",
                "\n",
                "    Args:\n",
                "        channel_id (str): The ID of the channel where the message is located.\n",
                "        timestamp (str): The timestamp of the message to update.\n",
                "        new_text (str): The new text content for the message.\n",
                "    \"\"\"\n",
                "    try:\n",
                "        return await async_app.client.chat_update(channel=channel_id, ts=message_id, text=new_text)\n",
                "        if debug_prn:\n",
                "            print(f\"Message updated successfully in channel {channel_id} at {message_id}\")\n",
                "    except SlackApiError as e:\n",
                "        raise MafiaError(exception = e) from e"
            ]
        },
        {
            "cell_type": "code",
            "execution_count": 17,
            "metadata": {},
            "outputs": [
                {
                    "ename": "MafiaError",
                    "evalue": "💀  The request to the Slack API failed. (url: https://slack.com/api/chat.update, status: 200)\nThe server responded with: {'ok': False, 'error': 'message_not_found'}\nAn exception of type SlackApiError occurred. Arguments: The request to the Slack API failed. (url: https://slack.com/api/chat.update, status: 200)\nThe server responded with: {'ok': False, 'error': 'message_not_found'}",
                    "output_type": "error",
                    "traceback": [
                        "\u001b[0;31m---------------------------------------------------------------------------\u001b[0m",
                        "\u001b[0;31mSlackApiError\u001b[0m                             Traceback (most recent call last)",
                        "Cell \u001b[0;32mIn[16], line 18\u001b[0m, in \u001b[0;36mupdate_slack_message\u001b[0;34m(async_app, channel_id, message_id, new_text, debug_prn)\u001b[0m\n\u001b[1;32m     17\u001b[0m \u001b[38;5;28;01mtry\u001b[39;00m:\n\u001b[0;32m---> 18\u001b[0m     \u001b[38;5;28;01mreturn\u001b[39;00m \u001b[38;5;28;01mawait\u001b[39;00m async_app\u001b[38;5;241m.\u001b[39mclient\u001b[38;5;241m.\u001b[39mchat_update(channel\u001b[38;5;241m=\u001b[39mchannel_id, ts\u001b[38;5;241m=\u001b[39mmessage_id, text\u001b[38;5;241m=\u001b[39mnew_text)\n\u001b[1;32m     19\u001b[0m     \u001b[38;5;28;01mif\u001b[39;00m debug_prn:\n",
                        "File \u001b[0;32m~/.python/current/lib/python3.12/site-packages/slack_sdk/web/async_client.py:2842\u001b[0m, in \u001b[0;36mAsyncWebClient.chat_update\u001b[0;34m(self, channel, ts, text, attachments, blocks, as_user, file_ids, link_names, parse, reply_broadcast, metadata, **kwargs)\u001b[0m\n\u001b[1;32m   2841\u001b[0m \u001b[38;5;66;03m# NOTE: intentionally using json over params for API methods using blocks/attachments\u001b[39;00m\n\u001b[0;32m-> 2842\u001b[0m \u001b[38;5;28;01mreturn\u001b[39;00m \u001b[38;5;28;01mawait\u001b[39;00m \u001b[38;5;28mself\u001b[39m\u001b[38;5;241m.\u001b[39mapi_call(\u001b[38;5;124m\"\u001b[39m\u001b[38;5;124mchat.update\u001b[39m\u001b[38;5;124m\"\u001b[39m, json\u001b[38;5;241m=\u001b[39mkwargs)\n",
                        "File \u001b[0;32m~/.python/current/lib/python3.12/site-packages/slack_sdk/web/async_base_client.py:175\u001b[0m, in \u001b[0;36mAsyncBaseClient.api_call\u001b[0;34m(self, api_method, http_verb, files, data, params, json, headers, auth)\u001b[0m\n\u001b[1;32m    173\u001b[0m show_deprecation_warning_if_any(api_method)\n\u001b[0;32m--> 175\u001b[0m \u001b[38;5;28;01mreturn\u001b[39;00m \u001b[38;5;28;01mawait\u001b[39;00m \u001b[38;5;28mself\u001b[39m\u001b[38;5;241m.\u001b[39m_send(\n\u001b[1;32m    176\u001b[0m     http_verb\u001b[38;5;241m=\u001b[39mhttp_verb,\n\u001b[1;32m    177\u001b[0m     api_url\u001b[38;5;241m=\u001b[39mapi_url,\n\u001b[1;32m    178\u001b[0m     req_args\u001b[38;5;241m=\u001b[39mreq_args,\n\u001b[1;32m    179\u001b[0m )\n",
                        "File \u001b[0;32m~/.python/current/lib/python3.12/site-packages/slack_sdk/web/async_base_client.py:215\u001b[0m, in \u001b[0;36mAsyncBaseClient._send\u001b[0;34m(self, http_verb, api_url, req_args)\u001b[0m\n\u001b[1;32m    209\u001b[0m data \u001b[38;5;241m=\u001b[39m {\n\u001b[1;32m    210\u001b[0m     \u001b[38;5;124m\"\u001b[39m\u001b[38;5;124mclient\u001b[39m\u001b[38;5;124m\"\u001b[39m: \u001b[38;5;28mself\u001b[39m,\n\u001b[1;32m    211\u001b[0m     \u001b[38;5;124m\"\u001b[39m\u001b[38;5;124mhttp_verb\u001b[39m\u001b[38;5;124m\"\u001b[39m: http_verb,\n\u001b[1;32m    212\u001b[0m     \u001b[38;5;124m\"\u001b[39m\u001b[38;5;124mapi_url\u001b[39m\u001b[38;5;124m\"\u001b[39m: api_url,\n\u001b[1;32m    213\u001b[0m     \u001b[38;5;124m\"\u001b[39m\u001b[38;5;124mreq_args\u001b[39m\u001b[38;5;124m\"\u001b[39m: req_args,\n\u001b[1;32m    214\u001b[0m }\n\u001b[0;32m--> 215\u001b[0m \u001b[38;5;28;01mreturn\u001b[39;00m \u001b[43mAsyncSlackResponse\u001b[49m\u001b[43m(\u001b[49m\u001b[38;5;241;43m*\u001b[39;49m\u001b[38;5;241;43m*\u001b[39;49m\u001b[43m{\u001b[49m\u001b[38;5;241;43m*\u001b[39;49m\u001b[38;5;241;43m*\u001b[39;49m\u001b[43mdata\u001b[49m\u001b[43m,\u001b[49m\u001b[43m \u001b[49m\u001b[38;5;241;43m*\u001b[39;49m\u001b[38;5;241;43m*\u001b[39;49m\u001b[43mres\u001b[49m\u001b[43m}\u001b[49m\u001b[43m)\u001b[49m\u001b[38;5;241;43m.\u001b[39;49m\u001b[43mvalidate\u001b[49m\u001b[43m(\u001b[49m\u001b[43m)\u001b[49m\n",
                        "File \u001b[0;32m~/.python/current/lib/python3.12/site-packages/slack_sdk/web/async_slack_response.py:203\u001b[0m, in \u001b[0;36mAsyncSlackResponse.validate\u001b[0;34m(self)\u001b[0m\n\u001b[1;32m    202\u001b[0m msg \u001b[38;5;241m=\u001b[39m \u001b[38;5;124mf\u001b[39m\u001b[38;5;124m\"\u001b[39m\u001b[38;5;124mThe request to the Slack API failed. (url: \u001b[39m\u001b[38;5;132;01m{\u001b[39;00m\u001b[38;5;28mself\u001b[39m\u001b[38;5;241m.\u001b[39mapi_url\u001b[38;5;132;01m}\u001b[39;00m\u001b[38;5;124m, status: \u001b[39m\u001b[38;5;132;01m{\u001b[39;00m\u001b[38;5;28mself\u001b[39m\u001b[38;5;241m.\u001b[39mstatus_code\u001b[38;5;132;01m}\u001b[39;00m\u001b[38;5;124m)\u001b[39m\u001b[38;5;124m\"\u001b[39m\n\u001b[0;32m--> 203\u001b[0m \u001b[38;5;28;01mraise\u001b[39;00m e\u001b[38;5;241m.\u001b[39mSlackApiError(message\u001b[38;5;241m=\u001b[39mmsg, response\u001b[38;5;241m=\u001b[39m\u001b[38;5;28mself\u001b[39m)\n",
                        "\u001b[0;31mSlackApiError\u001b[0m: The request to the Slack API failed. (url: https://slack.com/api/chat.update, status: 200)\nThe server responded with: {'ok': False, 'error': 'message_not_found'}",
                        "\nThe above exception was the direct cause of the following exception:\n",
                        "\u001b[0;31mMafiaError\u001b[0m                                Traceback (most recent call last)",
                        "Cell \u001b[0;32mIn[17], line 1\u001b[0m\n\u001b[0;32m----> 1\u001b[0m \u001b[38;5;28;01mawait\u001b[39;00m update_slack_message(default_slack_app, \u001b[38;5;124m\"\u001b[39m\u001b[38;5;124mC08JLCQQYAU\u001b[39m\u001b[38;5;124m\"\u001b[39m, \u001b[38;5;124m\"\u001b[39m\u001b[38;5;124m1627480000.000100\u001b[39m\u001b[38;5;124m\"\u001b[39m, \u001b[38;5;124m\"\u001b[39m\u001b[38;5;124mHello, World!\u001b[39m\u001b[38;5;124m\"\u001b[39m)\n",
                        "Cell \u001b[0;32mIn[16], line 22\u001b[0m, in \u001b[0;36mupdate_slack_message\u001b[0;34m(async_app, channel_id, message_id, new_text, debug_prn)\u001b[0m\n\u001b[1;32m     20\u001b[0m         \u001b[38;5;28mprint\u001b[39m(\u001b[38;5;124mf\u001b[39m\u001b[38;5;124m\"\u001b[39m\u001b[38;5;124mMessage updated successfully in channel \u001b[39m\u001b[38;5;132;01m{\u001b[39;00mchannel_id\u001b[38;5;132;01m}\u001b[39;00m\u001b[38;5;124m at \u001b[39m\u001b[38;5;132;01m{\u001b[39;00mmessage_id\u001b[38;5;132;01m}\u001b[39;00m\u001b[38;5;124m\"\u001b[39m)\n\u001b[1;32m     21\u001b[0m \u001b[38;5;28;01mexcept\u001b[39;00m SlackApiError \u001b[38;5;28;01mas\u001b[39;00m e:\n\u001b[0;32m---> 22\u001b[0m     \u001b[38;5;28;01mraise\u001b[39;00m MafiaError(exception \u001b[38;5;241m=\u001b[39m e) \u001b[38;5;28;01mfrom\u001b[39;00m \u001b[38;5;21;01me\u001b[39;00m\n",
                        "\u001b[0;31mMafiaError\u001b[0m: 💀  The request to the Slack API failed. (url: https://slack.com/api/chat.update, status: 200)\nThe server responded with: {'ok': False, 'error': 'message_not_found'}\nAn exception of type SlackApiError occurred. Arguments: The request to the Slack API failed. (url: https://slack.com/api/chat.update, status: 200)\nThe server responded with: {'ok': False, 'error': 'message_not_found'}"
                    ]
                }
            ],
            "source": [
                "\n",
                "await update_slack_message(default_slack_app, \"C08JLCQQYAU\", \"1627480000.000100\", \"Hello, World!\")"
            ]
        },
        {
            "cell_type": "code",
            "execution_count": null,
            "metadata": {},
            "outputs": [],
            "source": [
                "#| export\n",
                "def post_initial_message(channel_id, initial_text, app):\n",
                "    try:\n",
                "        result = app.client.chat_postMessage(channel=channel_id, text=initial_text)\n",
                "        return result[\"ts\"]  # return timestamp.\n",
                "    except Exception as e:\n",
                "        print(f\"Error posting initial message: {e}\")\n",
                "        return None"
            ]
        }
    ],
    "metadata": {
        "jupytext": {
            "split_at_heading": true
        },
        "kernelspec": {
            "display_name": "Python 3",
            "language": "python",
            "name": "python3"
        },
        "language_info": {
            "codemirror_mode": {
                "name": "ipython",
                "version": 3
            },
            "file_extension": ".py",
            "mimetype": "text/x-python",
            "name": "python",
            "nbconvert_exporter": "python",
            "pygments_lexer": "ipython3",
            "version": "3.12.1"
        }
    },
    "nbformat": 4,
    "nbformat_minor": 4
}
