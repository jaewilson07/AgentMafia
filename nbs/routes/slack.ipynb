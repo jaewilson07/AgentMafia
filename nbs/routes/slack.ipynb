{
    "cells": [
        {
            "cell_type": "code",
            "execution_count": null,
            "metadata": {},
            "outputs": [],
            "source": [
                "#| default_exp routes.slack"
            ]
        },
        {
            "cell_type": "markdown",
            "metadata": {},
            "source": [
                "# Default Title (change me)\n",
                "> Default description (change me)"
            ]
        },
        {
            "cell_type": "code",
            "execution_count": null,
            "metadata": {},
            "outputs": [],
            "source": [
                "#| export\n",
                ""
            ]
        },
        {
            "cell_type": "code",
            "execution_count": null,
            "metadata": {},
            "outputs": [],
            "source": [
                "#| export\n",
                "def update_slack_message(channel_id, timestamp, new_text, app):\n",
                "    \"\"\"\n",
                "    Updates an existing Slack message.\n",
                "\n",
                "    Args:\n",
                "        channel_id (str): The ID of the channel where the message is located.\n",
                "        timestamp (str): The timestamp of the message to update.\n",
                "        new_text (str): The new text content for the message.\n",
                "    \"\"\"\n",
                "    try:\n",
                "        app.client.chat_update(channel=channel_id, ts=timestamp, text=new_text)\n",
                "        print(f\"Message updated successfully in channel {channel_id} at {timestamp}\")\n",
                "    except Exception as e:\n",
                "        print(f\"Error updating message: {e}\")"
            ]
        },
        {
            "cell_type": "code",
            "execution_count": null,
            "metadata": {},
            "outputs": [],
            "source": [
                "#| export\n",
                "def post_initial_message(channel_id, initial_text, app):\n",
                "    try:\n",
                "        result = app.client.chat_postMessage(channel=channel_id, text=initial_text)\n",
                "        return result[\"ts\"]  # return timestamp.\n",
                "    except Exception as e:\n",
                "        print(f\"Error posting initial message: {e}\")\n",
                "        return None"
            ]
        }
    ],
    "metadata": {
        "jupytext": {
            "split_at_heading": true
        },
        "kernelspec": {
            "display_name": "Python 3",
            "language": "python",
            "name": "python3"
        }
    },
    "nbformat": 4,
    "nbformat_minor": 4
}