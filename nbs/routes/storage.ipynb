{
    "cells": [
        {
            "cell_type": "code",
            "execution_count": 12,
            "metadata": {},
            "outputs": [],
            "source": [
                "#| default_exp routes.storage"
            ]
        },
        {
            "cell_type": "markdown",
            "metadata": {},
            "source": [
                "# Default Title (change me)\n",
                "> Default description (change me)"
            ]
        },
        {
            "cell_type": "code",
            "execution_count": 13,
            "metadata": {},
            "outputs": [],
            "source": [
                "#| export\n",
                "from supabase import create_client\n",
                "from supabase import Client as SupabaseClient\n",
                "import os\n",
                "import agent_mafia.utils as utils\n",
                "import json\n",
                "import datetime as dt"
            ]
        },
        {
            "cell_type": "code",
            "execution_count": 14,
            "metadata": {},
            "outputs": [],
            "source": [
                "#| export\n",
                "\n",
                "default_supabase_client: SupabaseClient = create_client(\n",
                "    os.environ[\"SUPABASE_URL\"], \n",
                "    os.environ[\"SUPABASE_SERVICE_KEY\"]\n",
                ")"
            ]
        },
        {
            "cell_type": "code",
            "execution_count": null,
            "metadata": {},
            "outputs": [],
            "source": [
                "#| export\n",
                "def store_data_in_supabase_table(\n",
                "    table_name : str,\n",
                "    data: dict,\n",
                "    supabase_client: SupabaseClient = None,\n",
                "):\n",
                "    \"\"\"stores data into a supabase table\"\"\"\n",
                "    supabase_client = supabase_client or default_supabase_client\n",
                "    return (\n",
                "        supabase_client.table(table_name)\n",
                "        .upsert(data, on_conflict=\"url, chunk_number\")\n",
                "        .execute()\n",
                "    )"
            ]
        },
        {
            "cell_type": "code",
            "execution_count": null,
            "metadata": {},
            "outputs": [],
            "source": [
                "#| export\n",
                "\n",
                "def save_to_disk(\n",
                "    output_path,\n",
                "    url,\n",
                "    source,\n",
                "    content,\n",
                "    title=None,\n",
                "    summary=None,\n",
                "    embedding=None,\n",
                "    metadata=None,\n",
                "    chunk_number=None,\n",
                "    **kwargs,\n",
                "):\n",
                "\n",
                "    utils.upsert_folder(output_path)\n",
                "\n",
                "    output_str = [\"---\"]\n",
                "\n",
                "    if url:\n",
                "        output_str.append(f\"url: {url}\")\n",
                "    if source:\n",
                "        output_str.append(f\"session_id: {source}\")\n",
                "    if chunk_number is not None:\n",
                "        output_str.append(f\"chunk_number: {chunk_number}\")\n",
                "    if title:\n",
                "        output_str.append(f\"title: {title}\")\n",
                "    if summary:\n",
                "        output_str.append(f\"summary: {summary}\")\n",
                "    if embedding:\n",
                "        output_str.append(f\"embedding: {embedding}\")\n",
                "    if metadata:\n",
                "        output_str.append(f\"metadata : {json.dumps(metadata)}\")\n",
                "    output_str.append(f\"updated_dt: {dt.datetime.now().isoformat()}\")\n",
                "    output_str.append(\"---\")\n",
                "    output_str.append(content)\n",
                "\n",
                "    with open(output_path, \"w+\", encoding=\"utf-8\") as f:\n",
                "        f.write(\"\\n\".join(output_str))\n",
                "\n",
                "        return True"
            ]
        }
    ],
    "metadata": {
        "jupytext": {
            "split_at_heading": true
        },
        "kernelspec": {
            "display_name": "Python 3",
            "language": "python",
            "name": "python3"
        },
        "language_info": {
            "codemirror_mode": {
                "name": "ipython",
                "version": 3
            },
            "file_extension": ".py",
            "mimetype": "text/x-python",
            "name": "python",
            "nbconvert_exporter": "python",
            "pygments_lexer": "ipython3",
            "version": "3.12.1"
        }
    },
    "nbformat": 4,
    "nbformat_minor": 4
}
