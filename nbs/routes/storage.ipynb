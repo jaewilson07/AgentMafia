{
 "cells": [
  {
   "cell_type": "code",
   "execution_count": 1,
   "metadata": {},
   "outputs": [],
   "source": [
    "# default_exp routes.storage"
   ]
  },
  {
   "cell_type": "markdown",
   "metadata": {},
   "source": [
    "# Default Title (change me)\n",
    "> Default description (change me)"
   ]
  },
  {
   "cell_type": "code",
   "execution_count": 2,
   "metadata": {},
   "outputs": [],
   "source": [
    "# %pip install supabase"
   ]
  },
  {
   "cell_type": "code",
   "execution_count": 3,
   "metadata": {},
   "outputs": [
    {
     "ename": "ModuleNotFoundError",
     "evalue": "No module named 'agent_mafia.utils'",
     "output_type": "error",
     "traceback": [
      "\u001b[0;31m---------------------------------------------------------------------------\u001b[0m",
      "\u001b[0;31mModuleNotFoundError\u001b[0m                       Traceback (most recent call last)",
      "Cell \u001b[0;32mIn[3], line 4\u001b[0m\n\u001b[1;32m      2\u001b[0m \u001b[38;5;28;01mfrom\u001b[39;00m \u001b[38;5;21;01msupabase\u001b[39;00m \u001b[38;5;28;01mimport\u001b[39;00m create_client, Client\n\u001b[1;32m      3\u001b[0m \u001b[38;5;28;01mimport\u001b[39;00m \u001b[38;5;21;01mos\u001b[39;00m\n\u001b[0;32m----> 4\u001b[0m \u001b[38;5;28;01mimport\u001b[39;00m \u001b[38;5;21;01magent_mafia\u001b[39;00m\u001b[38;5;21;01m.\u001b[39;00m\u001b[38;5;21;01mutils\u001b[39;00m \u001b[38;5;28;01mas\u001b[39;00m \u001b[38;5;21;01mutils\u001b[39;00m\n\u001b[1;32m      5\u001b[0m \u001b[38;5;28;01mimport\u001b[39;00m \u001b[38;5;21;01mjson\u001b[39;00m\n\u001b[1;32m      6\u001b[0m \u001b[38;5;28;01mimport\u001b[39;00m \u001b[38;5;21;01mdatetime\u001b[39;00m \u001b[38;5;28;01mas\u001b[39;00m \u001b[38;5;21;01mdt\u001b[39;00m\n",
      "\u001b[0;31mModuleNotFoundError\u001b[0m: No module named 'agent_mafia.utils'"
     ]
    }
   ],
   "source": [
    "#export\n",
    "from supabase import create_client, Client\n",
    "import os\n",
    "import agent_mafia.utils as utils\n",
    "import json\n",
    "import datetime as dt"
   ]
  },
  {
   "cell_type": "code",
   "execution_count": null,
   "metadata": {},
   "outputs": [],
   "source": [
    "#export\n",
    "default_supabase_client: Client = create_client(\n",
    "    os.getenv(\"SUPABASE_URL\"), os.getenv(\"SUPABASE_SERVICE_KEY\")\n",
    ")"
   ]
  },
  {
   "cell_type": "code",
   "execution_count": null,
   "metadata": {},
   "outputs": [],
   "source": [
    "#export\n",
    "def store_data_in_supabase_table(\n",
    "    table_name,\n",
    "    data,\n",
    "    supabase_client: Client = None,\n",
    "):\n",
    "    supabase_client = supabase_client or default_supabase_client\n",
    "    return (\n",
    "        supabase_client.table(table_name)\n",
    "        .upsert(data, on_conflict=\"url, chunk_number\")\n",
    "        .execute()\n",
    "    )"
   ]
  },
  {
   "cell_type": "code",
   "execution_count": null,
   "metadata": {},
   "outputs": [],
   "source": [
    "#export\n",
    "def save_to_disk(\n",
    "    output_path,\n",
    "    url,\n",
    "    source,\n",
    "    content,\n",
    "    title=None,\n",
    "    summary=None,\n",
    "    embedding=None,\n",
    "    metadata=None,\n",
    "    chunk_number=None,\n",
    "    **kwargs,\n",
    "):\n",
    "\n",
    "    utils.upsert_folder(output_path)\n",
    "\n",
    "    output_str = [\"---\"]\n",
    "\n",
    "    if url:\n",
    "        output_str.append(f\"url: {url}\")\n",
    "    if source:\n",
    "        output_str.append(f\"session_id: {source}\")\n",
    "    if chunk_number is not None:\n",
    "        output_str.append(f\"chunk_number: {chunk_number}\")\n",
    "    if title:\n",
    "        output_str.append(f\"title: {title}\")\n",
    "    if summary:\n",
    "        output_str.append(f\"summary: {summary}\")\n",
    "    if embedding:\n",
    "        output_str.append(f\"embedding: {embedding}\")\n",
    "    if metadata:\n",
    "        output_str.append(f\"metadata : {json.dumps(metadata)}\")\n",
    "    output_str.append(f\"updated_dt: {dt.datetime.now().isoformat()}\")\n",
    "    output_str.append(\"---\")\n",
    "    output_str.append(content)\n",
    "\n",
    "    with open(output_path, \"w+\", encoding=\"utf-8\") as f:\n",
    "        f.write(\"\\n\".join(output_str))\n",
    "\n",
    "        return True"
   ]
  }
 ],
 "metadata": {
  "jupytext": {
   "split_at_heading": true
  },
  "kernelspec": {
   "display_name": "Python 3",
   "language": "python",
   "name": "python3"
  },
  "language_info": {
   "codemirror_mode": {
    "name": "ipython",
    "version": 3
   },
   "file_extension": ".py",
   "mimetype": "text/x-python",
   "name": "python",
   "nbconvert_exporter": "python",
   "pygments_lexer": "ipython3",
   "version": "3.10.12"
  }
 },
 "nbformat": 4,
 "nbformat_minor": 4
}
