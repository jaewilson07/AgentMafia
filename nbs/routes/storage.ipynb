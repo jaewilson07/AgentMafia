{
    "cells": [
        {
            "cell_type": "code",
            "execution_count": 31,
            "metadata": {},
            "outputs": [],
            "source": [
                "# | default_exp routes.storage"
            ]
        },
        {
            "cell_type": "markdown",
            "metadata": {},
            "source": [
                "# Storage Routes\n",
                "\n",
                "> Default description (change me)\n"
            ]
        },
        {
            "cell_type": "code",
            "execution_count": 32,
            "metadata": {},
            "outputs": [],
            "source": [
                "# | export\n",
                "from typing import List, Callable\n",
                "from supabase import AsyncClient as Async_SupabaseClient\n",
                "\n",
                "\n",
                "import agent_mafia.utils.files as amfi\n",
                "import agent_mafia.client.MafiaError as amme\n",
                "import json\n",
                "import datetime as dt\n",
                "\n",
                "from agent_mafia.client.ResponseGetData import ResponseGetDataSupabase"
            ]
        },
        {
            "cell_type": "code",
            "execution_count": 33,
            "metadata": {},
            "outputs": [],
            "source": [
                "#| exporti\n",
                "import os\n",
                "from dotenv import load_dotenv"
            ]
        },
        {
            "cell_type": "code",
            "execution_count": 34,
            "metadata": {},
            "outputs": [],
            "source": [
                "# | hide\n",
                "import nbdev\n"
            ]
        },
        {
            "cell_type": "code",
            "execution_count": 35,
            "metadata": {},
            "outputs": [
                {
                    "data": {
                        "text/plain": [
                            "True"
                        ]
                    },
                    "execution_count": 35,
                    "metadata": {},
                    "output_type": "execute_result"
                }
            ],
            "source": [
                "#| exporti\n",
                "load_dotenv()"
            ]
        },
        {
            "cell_type": "code",
            "execution_count": 36,
            "metadata": {},
            "outputs": [],
            "source": [
                "#| export\n",
                "async_supabase_client: Async_SupabaseClient = Async_SupabaseClient(\n",
                "    os.environ[\"SUPABASE_URL\"], os.environ[\"SUPABASE_SERVICE_KEY\"]\n",
                ")"
            ]
        },
        {
            "cell_type": "code",
            "execution_count": 37,
            "metadata": {},
            "outputs": [],
            "source": [
                "# | export\n",
                "async def store_data_in_supabase_table(\n",
                "    async_supabase_client: Async_SupabaseClient,\n",
                "    table_name: str,\n",
                "    data: dict,\n",
                "):\n",
                "    \"\"\"stores data into a supabase table\"\"\"\n",
                "    res = (\n",
                "        await async_supabase_client.table(table_name)\n",
                "        .upsert(data, on_conflict=\"url, chunk_number\")\n",
                "        .execute()\n",
                "    )\n",
                "\n",
                "    rgd = ResponseGetDataSupabase.from_res(res=res)\n",
                "\n",
                "    return rgd"
            ]
        },
        {
            "cell_type": "code",
            "execution_count": 38,
            "metadata": {},
            "outputs": [
                {
                    "name": "stdout",
                    "output_type": "stream",
                    "text": [
                        "[Errno 2] No such file or directory: '../../TEST/storage_routes/test_upload.md'\n"
                    ]
                }
            ],
            "source": [
                "res = None\n",
                "try:\n",
                "    with open(\"../../TEST/storage_routes/test_upload.md\", \"r\", encoding=\"utf-8\") as f:\n",
                "        data = f.read()\n",
                "\n",
                "        res = await store_data_in_supabase_table(\n",
                "            table_name=\"site_pages\",\n",
                "            data={\n",
                "                \"url\": \"test.md\",\n",
                "                \"chunk_number\": 0,\n",
                "                \"title\": \"Domo IT Whitepaper\",\n",
                "                \"summary\": \"a whitepaper a about IT\",\n",
                "                \"content\": data,\n",
                "            },\n",
                "            async_supabase_client=async_supabase_client,\n",
                "        )\n",
                "\n",
                "        res.response\n",
                "\n",
                "except Exception as e:\n",
                "    print(e)"
            ]
        },
        {
            "cell_type": "code",
            "execution_count": 39,
            "metadata": {},
            "outputs": [],
            "source": [
                "# | export\n",
                "\n",
                "\n",
                "async def get_document_urls_from_supabase(\n",
                "    async_supabase_client: Async_SupabaseClient,\n",
                "    source: str = None,\n",
                "    table_name: str = \"site_pages\",\n",
                ") -> List[str]:\n",
                "    \"\"\"\n",
                "    Function to retrieve a list of available documentation pages.\n",
                "\n",
                "    Returns:\n",
                "        List[str]: List of unique URLs for all documentation pages\n",
                "    \"\"\"\n",
                "    try:\n",
                "        # Query Supabase for unique URLs where source is pydantic_ai_docs\n",
                "\n",
                "        if source:\n",
                "            result = await (\n",
                "                async_supabase_client.from_(table_name)\n",
                "                .select(\"url\")\n",
                "                .eq(\"metadata->>source\", source)\n",
                "                .execute()\n",
                "            )\n",
                "\n",
                "        else:\n",
                "            result = (\n",
                "                await async_supabase_client.from_(table_name).select(\"url\").execute()\n",
                "            )\n",
                "\n",
                "        if not result.data:\n",
                "            return []\n",
                "\n",
                "        # Extract unique URLs\n",
                "        urls = sorted(set(doc[\"url\"] for doc in result.data))\n",
                "        return urls\n",
                "\n",
                "    except Exception as e:\n",
                "        raise amme.MafiaError(\"Error retrieving documentation pages\", exception=e)"
            ]
        },
        {
            "cell_type": "code",
            "execution_count": 40,
            "metadata": {},
            "outputs": [
                {
                    "data": {
                        "text/plain": [
                            "['https://ai.pydantic.dev/',\n",
                            " 'https://ai.pydantic.dev/agents/',\n",
                            " 'https://ai.pydantic.dev/api/agent/',\n",
                            " 'https://ai.pydantic.dev/api/common_tools/',\n",
                            " 'https://ai.pydantic.dev/api/exceptions/']"
                        ]
                    },
                    "execution_count": 40,
                    "metadata": {},
                    "output_type": "execute_result"
                }
            ],
            "source": [
                "(await get_document_urls_from_supabase(async_supabase_client=async_supabase_client))[\n",
                "    0:5\n",
                "]"
            ]
        },
        {
            "cell_type": "code",
            "execution_count": null,
            "metadata": {},
            "outputs": [],
            "source": [
                "#| export\n",
                "def format_supabase_chunks(data: List[dict]) -> List[str]:\n",
                "    return [f\"# {doc['title']}\\n\\n{doc['content']}\" for doc in data if doc]\n",
                "\n",
                "\n",
                "def format_supabase_page(data: List[dict]) -> List[str]:\n",
                "    page_title = data[0][\"title\"].split(\" - \")[0]\n",
                "\n",
                "    formatted_content = [f\"# {page_title}\\n\"]\n",
                "\n",
                "    for chunk in data:\n",
                "        formatted_content.append(chunk[\"content\"])\n",
                "\n",
                "    return \"\\n\\n\".join(formatted_content)\n",
                "\n",
                "async def get_document_from_supabase(\n",
                "    async_supabase_client: Async_SupabaseClient, \n",
                "    url:  str,  \n",
                "    table_name: str = \"site_pages\",\n",
                "    source: str = None, \n",
                "    format_fn: Callable = None\n",
                ") -> List[str]:\n",
                "    try:\n",
                "\n",
                "        result = (await async_supabase_client.from_(table_name)\n",
                "                .select(\"title, content, chunk_number\")\n",
                "                .eq(\"url\", url)\n",
                "                .eq(\"metadata->>source\", source)\n",
                "                .order(\"chunk_number\")\n",
                "                .execute()\n",
                "            )\n",
                "\n",
                "        data = result.data or []\n",
                "        \n",
                "        if not format_fn:\n",
                "            return data\n",
                "    \n",
                "        return format_fn(data)\n",
                "\n",
                "\n",
                "    except Exception as e:\n",
                "        print(e)\n",
                "        raise amme.MafiaError(\"Error retrieving chunks\", exception=e)"
            ]
        },
        {
            "cell_type": "code",
            "execution_count": null,
            "metadata": {},
            "outputs": [],
            "source": [
                "#| export\n",
                "\n",
                "async def get_chunks_from_supabase(\n",
                "    async_supabase_client: Async_SupabaseClient, \n",
                "    query_embedding : List[float],\n",
                "    table_name: str = \"site_pages\",\n",
                "    match_count : int = 5,\n",
                "    source: str = None, \n",
                "    format_fn: Callable = None\n",
                ") -> List[str]:\n",
                "    try:\n",
                "        result = await async_supabase_client.rpc(\n",
                "            f\"match_{table_name}\",\n",
                "            {\n",
                "                \"query_embedding\": query_embedding,\n",
                "                \"match_count\": match_count,\n",
                "                \"filter\": {\"source\": source},\n",
                "            },\n",
                "        ).execute()\n",
                "\n",
                "        data = result.data or []\n",
                "        \n",
                "        if not format_fn:\n",
                "            return data\n",
                "    \n",
                "        return format_fn(data)\n",
                "\n",
                "    except Exception as e:\n",
                "        raise amme.MafiaError(\"Error retrieving chunks\", exception=e) from e\n"
            ]
        },
        {
            "cell_type": "code",
            "execution_count": 43,
            "metadata": {},
            "outputs": [],
            "source": [
                "# | export\n",
                "\n",
                "\n",
                "def save_chunk_to_disk(\n",
                "    output_path,\n",
                "    data: dict,\n",
                "    **kwargs,\n",
                "):\n",
                "\n",
                "    amfi.upsert_folder(output_path)\n",
                "\n",
                "    url = data[\"url\"]\n",
                "    source = data[\"source\"]\n",
                "    content = data[\"content\"]\n",
                "    title = data.get(\"title\")\n",
                "    summary = data.get(\"summary\")\n",
                "    embedding = data.get(\"embedding\")\n",
                "    metadata = data.get(\"metadata\")\n",
                "    chunk_number = data.get(\"chunk_number\")\n",
                "\n",
                "    output_ls = [\n",
                "        \"---\",\n",
                "        f\"url: {url}\",\n",
                "        f\"session_id: {source}\",\n",
                "        f\"chunk_number: {chunk_number}\" if chunk_number is not None else None,\n",
                "        f\"title: {title}\" if title is not None else None,\n",
                "        f\"summary: {summary}\" if summary is not None else None,\n",
                "        f\"embedding: {embedding}\" if embedding is not None else None,\n",
                "        f\"metadata : {json.dumps(metadata)}\" if metadata is not None else None,\n",
                "        f\"updated_dt: {dt.datetime.now().isoformat()}\",\n",
                "        \"---\",\n",
                "        content,\n",
                "    ]\n",
                "\n",
                "    with open(output_path, \"w+\", encoding=\"utf-8\") as f:\n",
                "        f.write(\"\\n\".join([row for row in output_ls if row is not None]))\n",
                "\n",
                "        return True"
            ]
        },
        {
            "cell_type": "code",
            "execution_count": 44,
            "metadata": {},
            "outputs": [
                {
                    "name": "stdout",
                    "output_type": "stream",
                    "text": [
                        "'NoneType' object has no attribute 'response'\n"
                    ]
                }
            ],
            "source": [
                "try:\n",
                "    save_chunk_to_disk(\n",
                "        output_path=\"../../TEST/storage_routes/save_to_disk.md\",\n",
                "        data={\n",
                "            \"source\": \"test\",\n",
                "            **res.response[0],\n",
                "        },\n",
                "    )\n",
                "except Exception as e:\n",
                "    print(e)"
            ]
        },
        {
            "cell_type": "code",
            "execution_count": 45,
            "metadata": {},
            "outputs": [],
            "source": [
                "# | hide\n",
                "import nbdev\n",
                "\n",
                "nbdev.nbdev_export(\"/.storage.ipynb\")"
            ]
        }
    ],
    "metadata": {
        "jupytext": {
            "split_at_heading": true
        },
        "kernelspec": {
            "display_name": "Python 3",
            "language": "python",
            "name": "python3"
        },
        "language_info": {
            "codemirror_mode": {
                "name": "ipython",
                "version": 3
            },
            "file_extension": ".py",
            "mimetype": "text/x-python",
            "name": "python",
            "nbconvert_exporter": "python",
            "pygments_lexer": "ipython3",
            "version": "3.12.1"
        }
    },
    "nbformat": 4,
    "nbformat_minor": 4
}
