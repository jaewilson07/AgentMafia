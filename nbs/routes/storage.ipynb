{
 "cells": [
  {
   "cell_type": "code",
   "execution_count": null,
   "metadata": {},
   "outputs": [],
   "source": [
    "# default_exp routes.storage"
   ]
  },
  {
   "cell_type": "markdown",
   "metadata": {},
   "source": [
    "# Default Title (change me)\n",
    "> Default description (change me)"
   ]
  },
  {
   "cell_type": "code",
   "execution_count": null,
   "metadata": {},
   "outputs": [
    {
     "ename": "",
     "evalue": "",
     "output_type": "error",
     "traceback": [
      "\u001b[1;31mRunning cells with '.venv (Python 3.10.9)' requires the ipykernel package.\n",
      "\u001b[1;31mRun the following command to install 'ipykernel' into the Python environment. \n",
      "\u001b[1;31mCommand: 'd:/GitHub/rag_supabase/.venv/Scripts/python.exe -m pip install ipykernel -U --force-reinstall'"
     ]
    }
   ],
   "source": [
    "#export\n",
    "from supabase import create_client, Client\n",
    "import os\n",
    "import utils\n",
    "import json\n",
    "import datetime as dt"
   ]
  },
  {
   "cell_type": "code",
   "execution_count": null,
   "metadata": {},
   "outputs": [],
   "source": [
    "#export\n",
    "default_supabase_client: Client = create_client(\n",
    "    os.getenv(\"SUPABASE_URL\"), os.getenv(\"SUPABASE_SERVICE_KEY\")\n",
    ")"
   ]
  },
  {
   "cell_type": "code",
   "execution_count": null,
   "metadata": {},
   "outputs": [],
   "source": [
    "#export\n",
    "def store_data_in_supabase_table(\n",
    "    table_name,\n",
    "    data,\n",
    "    supabase_client: Client = None,\n",
    "):\n",
    "    supabase_client = supabase_client or default_supabase_client\n",
    "    return (\n",
    "        supabase_client.table(table_name)\n",
    "        .upsert(data, on_conflict=\"url, chunk_number\")\n",
    "        .execute()\n",
    "    )"
   ]
  },
  {
   "cell_type": "code",
   "execution_count": null,
   "metadata": {},
   "outputs": [],
   "source": [
    "#export\n",
    "def save_to_disk(\n",
    "    output_path,\n",
    "    url,\n",
    "    source,\n",
    "    content,\n",
    "    title=None,\n",
    "    summary=None,\n",
    "    embedding=None,\n",
    "    metadata=None,\n",
    "    chunk_number=None,\n",
    "    **kwargs,\n",
    "):\n",
    "\n",
    "    utils.upsert_folder(output_path)\n",
    "\n",
    "    output_str = [\"---\"]\n",
    "\n",
    "    if url:\n",
    "        output_str.append(f\"url: {url}\")\n",
    "    if source:\n",
    "        output_str.append(f\"session_id: {source}\")\n",
    "    if chunk_number is not None:\n",
    "        output_str.append(f\"chunk_number: {chunk_number}\")\n",
    "    if title:\n",
    "        output_str.append(f\"title: {title}\")\n",
    "    if summary:\n",
    "        output_str.append(f\"summary: {summary}\")\n",
    "    if embedding:\n",
    "        output_str.append(f\"embedding: {embedding}\")\n",
    "    if metadata:\n",
    "        output_str.append(f\"metadata : {json.dumps(metadata)}\")\n",
    "    output_str.append(f\"updated_dt: {dt.datetime.now().isoformat()}\")\n",
    "    output_str.append(\"---\")\n",
    "    output_str.append(content)\n",
    "\n",
    "    with open(output_path, \"w+\", encoding=\"utf-8\") as f:\n",
    "        f.write(\"\\n\".join(output_str))\n",
    "\n",
    "        return True"
   ]
  }
 ],
 "metadata": {
  "jupytext": {
   "split_at_heading": true
  },
  "kernelspec": {
   "display_name": ".venv",
   "language": "python",
   "name": "python3"
  },
  "language_info": {
   "name": "python",
   "version": "3.10.9"
  }
 },
 "nbformat": 4,
 "nbformat_minor": 4
}
