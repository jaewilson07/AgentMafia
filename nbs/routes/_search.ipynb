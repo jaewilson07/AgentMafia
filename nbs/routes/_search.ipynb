{
    "cells": [
        {
            "cell_type": "code",
            "execution_count": 1,
            "metadata": {},
            "outputs": [],
            "source": [
                "#| default_exp routes.search"
            ]
        },
        {
            "cell_type": "markdown",
            "metadata": {},
            "source": [
                "# Default Title (change me)\n",
                "> Default description (change me)"
            ]
        },
        {
            "cell_type": "code",
            "execution_count": 2,
            "metadata": {},
            "outputs": [
                {
                    "ename": "ModuleNotFoundError",
                    "evalue": "No module named 'tavily'",
                    "output_type": "error",
                    "traceback": [
                        "\u001b[0;31m---------------------------------------------------------------------------\u001b[0m",
                        "\u001b[0;31mModuleNotFoundError\u001b[0m                       Traceback (most recent call last)",
                        "Cell \u001b[0;32mIn[2], line 2\u001b[0m\n\u001b[1;32m      1\u001b[0m \u001b[38;5;66;03m#| export\u001b[39;00m\n\u001b[0;32m----> 2\u001b[0m \u001b[38;5;28;01mfrom\u001b[39;00m \u001b[38;5;21;01mtavily\u001b[39;00m \u001b[38;5;28;01mimport\u001b[39;00m AsyncTavilyClient\n",
                        "\u001b[0;31mModuleNotFoundError\u001b[0m: No module named 'tavily'"
                    ]
                }
            ],
            "source": [
                "#| export\n",
                "from tavily import AsyncTavilyClient"
            ]
        },
        {
            "cell_type": "code",
            "execution_count": null,
            "metadata": {},
            "outputs": [],
            "source": [
                "#| export\n",
                "tavily_client = AsyncTavilyClient(api_key=os.environ[\"TAVILY_API_KEY\"])"
            ]
        },
        {
            "cell_type": "code",
            "execution_count": null,
            "metadata": {},
            "outputs": [],
            "source": [
                "#| export\n",
                "def process_response(tavily_response: dict):\n",
                "    print(tavily_response)\n",
                "    print(tavily_response.keys())\n",
                "    # url = tavily_response[\"url\"]\n",
                "    # content = tavily_response[\"content\"]\n",
                "    # answer = tavily_response.get(\"answer\")\n",
                "\n",
                "\n",
                "# Simple Search"
            ]
        },
        {
            "cell_type": "code",
            "execution_count": null,
            "metadata": {},
            "outputs": [],
            "source": [
                "#| export\n",
                "async def tavily_search(\n",
                "    search_term,\n",
                "    max_results=3,\n",
                "    include_raw_content: bool = False,\n",
                "    include_images: bool = True,\n",
                "):\n",
                "    res = await tavily_client.search(\n",
                "        search_term,\n",
                "        max_results=max_results,\n",
                "        include_raw_content=include_raw_content,\n",
                "        include_images=True,\n",
                "    )\n",
                "\n",
                "\n",
                "print(response[\"results\"])"
            ]
        }
    ],
    "metadata": {
        "jupytext": {
            "split_at_heading": true
        },
        "kernelspec": {
            "display_name": "Python 3",
            "language": "python",
            "name": "python3"
        },
        "language_info": {
            "codemirror_mode": {
                "name": "ipython",
                "version": 3
            },
            "file_extension": ".py",
            "mimetype": "text/x-python",
            "name": "python",
            "nbconvert_exporter": "python",
            "pygments_lexer": "ipython3",
            "version": "3.12.1"
        }
    },
    "nbformat": 4,
    "nbformat_minor": 4
}
