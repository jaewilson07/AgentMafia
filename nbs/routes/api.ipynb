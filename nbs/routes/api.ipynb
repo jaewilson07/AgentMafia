{
    "cells": [
        {
            "cell_type": "code",
            "execution_count": 1,
            "metadata": {},
            "outputs": [],
            "source": [
                "#| default_exp routes.api"
            ]
        },
        {
            "cell_type": "markdown",
            "metadata": {},
            "source": [
                "# Default Title (change me)\n",
                "> Default description (change me)"
            ]
        },
        {
            "cell_type": "code",
            "execution_count": 2,
            "metadata": {},
            "outputs": [
                {
                    "ename": "ModuleNotFoundError",
                    "evalue": "No module named 'agent_mafia'",
                    "output_type": "error",
                    "traceback": [
                        "\u001b[1;31m---------------------------------------------------------------------------\u001b[0m",
                        "\u001b[1;31mModuleNotFoundError\u001b[0m                       Traceback (most recent call last)",
                        "Cell \u001b[1;32mIn[2], line 4\u001b[0m\n\u001b[0;32m      1\u001b[0m \u001b[38;5;66;03m#| export\u001b[39;00m\n\u001b[0;32m      2\u001b[0m \u001b[38;5;28;01mfrom\u001b[39;00m\u001b[38;5;250m \u001b[39m\u001b[38;5;21;01mfastapi\u001b[39;00m\u001b[38;5;250m \u001b[39m\u001b[38;5;28;01mimport\u001b[39;00m FastAPI, HTTPException\n\u001b[1;32m----> 4\u001b[0m \u001b[38;5;28;01mfrom\u001b[39;00m\u001b[38;5;250m \u001b[39m\u001b[38;5;21;01magent_mafia\u001b[39;00m\u001b[38;5;21;01m.\u001b[39;00m\u001b[38;5;21;01mroutes\u001b[39;00m\u001b[38;5;250m \u001b[39m\u001b[38;5;28;01mimport\u001b[39;00m crawler\n\u001b[0;32m      5\u001b[0m \u001b[38;5;28;01mfrom\u001b[39;00m\u001b[38;5;250m \u001b[39m\u001b[38;5;21;01magent_mafia\u001b[39;00m\u001b[38;5;21;01m.\u001b[39;00m\u001b[38;5;21;01mimplementations\u001b[39;00m\u001b[38;5;250m \u001b[39m\u001b[38;5;28;01mimport\u001b[39;00m scrape_urls\n",
                        "\u001b[1;31mModuleNotFoundError\u001b[0m: No module named 'agent_mafia'"
                    ]
                }
            ],
            "source": [
                "#| export\n",
                "from fastapi import FastAPI, HTTPException\n",
                "\n",
                "from agent_mafia.routes import crawler\n",
                "from agent_mafia.implementations import scrape_urls"
            ]
        },
        {
            "cell_type": "code",
            "execution_count": null,
            "metadata": {},
            "outputs": [],
            "source": [
                "#| export\n",
                "app = FastAPI()"
            ]
        },
        {
            "cell_type": "code",
            "execution_count": null,
            "metadata": {},
            "outputs": [],
            "source": [
                "#| export\n",
                "@app.post(\"/api/crawl\")\n",
                "async def crawl_url(\n",
                "    url: str,\n",
                "    session_id: str = \"default_session\",\n",
                "    export_folder: str = \"./export\",\n",
                "    database_table_name: str = \"site_pages\",\n",
                "):\n",
                "    try:\n",
                "        result = await scrape_urls.process_url(\n",
                "            url=url,\n",
                "            source=session_id,\n",
                "            export_folder=export_folder,\n",
                "            database_table_name=database_table_name,\n",
                "            debug_prn=True,\n",
                "        )\n",
                "\n",
                "        return {\n",
                "            \"success\": True,\n",
                "            \"message\": f\"Successfully processed {url}\",\n",
                "            \"result\": result,\n",
                "        }\n",
                "\n",
                "    except crawler.Crawler_NotSuccess as e:\n",
                "        raise HTTPException(\n",
                "            status_code=500, detail={\"error\": str(e), \"type\": \"crawler_error\"}\n",
                "        ) from e\n",
                "\n",
                "    except Exception as e:\n",
                "        raise HTTPException(\n",
                "            status_code=500, detail={\"error\": str(e), \"type\": \"server_error\"}\n",
                "        ) from e"
            ]
        }
    ],
    "metadata": {
        "jupytext": {
            "split_at_heading": true
        },
        "kernelspec": {
            "display_name": ".venv",
            "language": "python",
            "name": "python3"
        },
        "language_info": {
            "codemirror_mode": {
                "name": "ipython",
                "version": 3
            },
            "file_extension": ".py",
            "mimetype": "text/x-python",
            "name": "python",
            "nbconvert_exporter": "python",
            "pygments_lexer": "ipython3",
            "version": "3.10.9"
        }
    },
    "nbformat": 4,
    "nbformat_minor": 4
}