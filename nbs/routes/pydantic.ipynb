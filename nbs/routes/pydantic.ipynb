{
 "cells": [
  {
   "cell_type": "code",
   "execution_count": null,
   "metadata": {},
   "outputs": [],
   "source": [
    "#|default_exp routes.pydantic"
   ]
  },
  {
   "cell_type": "code",
   "execution_count": null,
   "metadata": {},
   "outputs": [],
   "source": [
    "#| exporti\n",
    "\n",
    "from dataclasses import dataclass\n",
    "\n",
    "\n",
    "from openai import AsyncClient as AsyncOpenaiClient\n",
    "from supabase import AsyncClient as AsyncSupabaseClient\n",
    "\n",
    "from pydantic_ai import Agent as PydanticAgent\n",
    "from pydantic_ai.models.openai import OpenAIModel\n"
   ]
  },
  {
   "cell_type": "code",
   "execution_count": 6,
   "metadata": {},
   "outputs": [],
   "source": [
    "# | export\n",
    "@dataclass\n",
    "class PydanticAIDependencies:\n",
    "    async_supabase_client: AsyncSupabaseClient\n",
    "    async_openai_client: AsyncOpenaiClient\n",
    "    reasoner_output: str = None\n"
   ]
  },
  {
   "cell_type": "code",
   "execution_count": null,
   "metadata": {},
   "outputs": [],
   "source": [
    "# | export\n",
    "\n",
    "\n",
    "def generate_pydantic_agent(\n",
    "    model_name,\n",
    "    base_url,\n",
    "    api_key,\n",
    "    system_prompt,\n",
    "    retries=0,\n",
    "    provider=\"openai\",\n",
    "    debug_prn: bool = False,\n",
    ") -> PydanticAgent:\n",
    "\n",
    "    if debug_prn:\n",
    "        print(\n",
    "            {\n",
    "                \"agent_config\": {\n",
    "                    \"model_name\": model_name,\n",
    "                    \"base_url\": base_url,\n",
    "                    \"api_key\": api_key,\n",
    "                    # \"system_prompt\": system_prompt,\n",
    "                    \"retries\": retries,\n",
    "                }\n",
    "            }\n",
    "        )\n",
    "\n",
    "    model = OpenAIModel(\n",
    "        provider=provider,\n",
    "        model_name=model_name,\n",
    "        base_url=base_url,\n",
    "        api_key=api_key,\n",
    "    )\n",
    "\n",
    "    return PydanticAgent(\n",
    "        model=model,\n",
    "        system_prompt=system_prompt,\n",
    "        deps_type=PydanticAIDependencies,\n",
    "        retries=retries,\n",
    "    )"
   ]
  }
 ],
 "metadata": {
  "kernelspec": {
   "display_name": "Python 3",
   "language": "python",
   "name": "python3"
  },
  "language_info": {
   "codemirror_mode": {
    "name": "ipython",
    "version": 3
   },
   "file_extension": ".py",
   "mimetype": "text/x-python",
   "name": "python",
   "nbconvert_exporter": "python",
   "pygments_lexer": "ipython3",
   "version": "3.12.1"
  }
 },
 "nbformat": 4,
 "nbformat_minor": 2
}
