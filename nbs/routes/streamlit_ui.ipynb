{
 "cells": [
  {
   "cell_type": "code",
   "execution_count": null,
   "metadata": {},
   "outputs": [],
   "source": [
    "#|default_exp routes.streamlit_ui"
   ]
  },
  {
   "cell_type": "code",
   "execution_count": 12,
   "metadata": {},
   "outputs": [],
   "source": [
    "#| exporti\n",
    "from __future__ import annotations\n",
    "from functools import partial\n",
    "\n",
    "from typing import Literal, TypedDict, Callable, List\n",
    "from enum import Enum\n",
    "\n",
    "from pydantic_ai.agent import Agent as PydanticAgent\n",
    "import streamlit as st\n",
    "\n",
    "from pydantic_ai.messages import (\n",
    "    UserPromptPart,\n",
    "    ModelRequest,\n",
    "    ModelResponse,\n",
    "    TextPart,\n",
    ")"
   ]
  },
  {
   "cell_type": "code",
   "execution_count": 6,
   "metadata": {},
   "outputs": [],
   "source": [
    "#| hide\n",
    "import nbdev"
   ]
  },
  {
   "cell_type": "code",
   "execution_count": 7,
   "metadata": {},
   "outputs": [],
   "source": [
    "class ChatMessage(TypedDict):\n",
    "    \"\"\"Format of messages setn to the browser/API\"\"\"\n",
    "\n",
    "    role: Literal[\"user\", \"model\"]\n",
    "    timestamp: str\n",
    "    content: str"
   ]
  },
  {
   "cell_type": "code",
   "execution_count": 8,
   "metadata": {},
   "outputs": [],
   "source": [
    "#| exporti\n",
    "def display_system_prompt(content):\n",
    "    with st.chat_message(\"system\"):\n",
    "        st.markdown(f\"**System**: {content}\")\n",
    "\n",
    "\n",
    "def display_user_prompt(content):\n",
    "    with st.chat_message(\"user\"):\n",
    "        st.markdown(content)\n",
    "\n",
    "\n",
    "def display_text(content):\n",
    "    with st.chat_message(\"assistant\"):\n",
    "        st.markdown(content)\n",
    "\n",
    "\n",
    "def display_default(content):\n",
    "    pass\n",
    "\n",
    "class MessagePartEnum(Enum):\n",
    "    \"\"\"enum for parsing the correct function to use to display a part_kind\"\"\"\n",
    "\n",
    "    SYSTEM_PROMPT = partial(display_system_prompt)\n",
    "    USER_PROMPT = partial(display_user_prompt)\n",
    "    TEXT = partial(display_text)\n",
    "\n",
    "    DEFAULT = partial(display_default)\n",
    "\n",
    "    @classmethod\n",
    "    def get_with_default(cls, value):\n",
    "        try:\n",
    "            return MessagePartEnum[value]\n",
    "\n",
    "        except KeyError:\n",
    "            return MessagePartEnum.DEFAULT"
   ]
  },
  {
   "cell_type": "code",
   "execution_count": null,
   "metadata": {},
   "outputs": [],
   "source": [
    "# | export\n",
    "\n",
    "\n",
    "def display_message_part(part):\n",
    "    \"\"\"\n",
    "    Display a single part of a message in the Streamlit UI.\n",
    "    Customize how you display system prompts, user prompts,\n",
    "    tool calls, tool returns, etc.\n",
    "    \"\"\"\n",
    "\n",
    "    if not hasattr(part, \"content\"):\n",
    "        return\n",
    "\n",
    "    MessagePartEnum.get_with_default(part.part_kind.replace(\"-\", \"_\").upper()).value(\n",
    "        content=part.content\n",
    "    )\n",
    "\n",
    "\n",
    "\n",
    "async def streamlit_ui(title : str, description :str, \n",
    "                       default_chat_input :str, run_agent_with_streaming : Callable[[str] ]\n",
    "                       ):\n",
    "    st.title(title)\n",
    "    st.write(description)\n",
    "\n",
    "    # Initialize chat history in session state if not present\n",
    "    if \"messages\" not in st.session_state:\n",
    "        st.session_state.messages = []\n",
    "\n",
    "    # Display all messages from the conversation so far\n",
    "    # Each message is either a ModelRequest or ModelResponse.\n",
    "    # We iterate over their parts to decide how to display them.\n",
    "    for msg in st.session_state.messages:\n",
    "        if isinstance(msg, ModelRequest) or isinstance(msg, ModelResponse):\n",
    "            for part in msg.parts:\n",
    "                display_message_part(part)\n",
    "\n",
    "    # Chat input for the user\n",
    "    user_input = st.chat_input(default_chat_input)\n",
    "\n",
    "    if user_input:\n",
    "        # We append a new request to the conversation explicitly\n",
    "        st.session_state.messages.append(\n",
    "            ModelRequest(parts=[UserPromptPart(content=user_input)])\n",
    "        )\n",
    "\n",
    "        # Display user prompt in the UI\n",
    "        with st.chat_message(\"user\"):\n",
    "            st.markdown(user_input)\n",
    "\n",
    "        # Display the assistant's partial response while streaming\n",
    "        with st.chat_message(\"assistant\"):\n",
    "            # Actually run the agent now, streaming the text\n",
    "            await run_agent_with_streaming(user_input=user_input, st = st)"
   ]
  },
  {
   "cell_type": "code",
   "execution_count": 14,
   "metadata": {},
   "outputs": [],
   "source": [
    "#| hide\n",
    "nbdev.nbdev_export('streamlit_ui.ipynb')"
   ]
  },
  {
   "cell_type": "code",
   "execution_count": 11,
   "metadata": {},
   "outputs": [],
   "source": [
    "#|"
   ]
  }
 ],
 "metadata": {
  "kernelspec": {
   "display_name": "Python 3",
   "language": "python",
   "name": "python3"
  },
  "language_info": {
   "codemirror_mode": {
    "name": "ipython",
    "version": 3
   },
   "file_extension": ".py",
   "mimetype": "text/x-python",
   "name": "python",
   "nbconvert_exporter": "python",
   "pygments_lexer": "ipython3",
   "version": "3.12.1"
  }
 },
 "nbformat": 4,
 "nbformat_minor": 2
}
