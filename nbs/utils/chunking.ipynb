{
 "cells": [
  {
   "cell_type": "code",
   "execution_count": 21,
   "metadata": {},
   "outputs": [],
   "source": [
    "#| default_exp utils.chunking"
   ]
  },
  {
   "cell_type": "markdown",
   "metadata": {},
   "source": [
    "# Default Title (change me)\n",
    "> Default description (change me)"
   ]
  },
  {
   "cell_type": "code",
   "execution_count": 22,
   "metadata": {},
   "outputs": [],
   "source": [
    "#| hide \n",
    "import nbdev"
   ]
  },
  {
   "cell_type": "code",
   "execution_count": 23,
   "metadata": {},
   "outputs": [],
   "source": [
    "#| export\n",
    "from typing import Union, List, Callable, Union"
   ]
  },
  {
   "cell_type": "code",
   "execution_count": 24,
   "metadata": {},
   "outputs": [],
   "source": [
    "#| export\n",
    "def calc_end_codeblock(chunk, chunk_size, start) -> Union[int, bool]:\n",
    "    code_block = chunk.rfind(\"```\")\n",
    "    if code_block == -1 or code_block <= chunk_size * 0.3:\n",
    "        return False\n",
    "\n",
    "    return start + code_block"
   ]
  },
  {
   "cell_type": "code",
   "execution_count": 25,
   "metadata": {},
   "outputs": [],
   "source": [
    "#| export\n",
    "def calc_end_paragraph(chunk, chunk_size, start) -> Union[int, bool]:\n",
    "    last_break = chunk.rfind(\"\\n\\n\")\n",
    "\n",
    "    if last_break == -1 or last_break <= chunk_size * 0.3:\n",
    "        return False\n",
    "\n",
    "    return start + last_break"
   ]
  },
  {
   "cell_type": "code",
   "execution_count": 26,
   "metadata": {},
   "outputs": [],
   "source": [
    "#| export\n",
    "def calc_end_sentence(chunk, chunk_size, start) -> Union[int, bool]:\n",
    "    last_period = chunk.rfind(\". \")\n",
    "\n",
    "    if last_period == -1 or last_period <= chunk_size * 0.3:\n",
    "        return False\n",
    "\n",
    "    return start + last_period + 1"
   ]
  },
  {
   "cell_type": "code",
   "execution_count": 27,
   "metadata": {},
   "outputs": [],
   "source": [
    "#| export\n",
    "def functions_stop_on_value(functions: List[Callable], **kwargs):\n",
    "    \"\"\"iterate over a list of functions and return the first function that returns a value\"\"\"\n",
    "\n",
    "    return next((fn(**kwargs) for fn in functions if fn(**kwargs)), None)"
   ]
  },
  {
   "cell_type": "code",
   "execution_count": 28,
   "metadata": {},
   "outputs": [],
   "source": [
    "#| export\n",
    "default_calc_end_fns = [calc_end_codeblock, calc_end_paragraph, calc_end_sentence]"
   ]
  },
  {
   "cell_type": "code",
   "execution_count": 29,
   "metadata": {},
   "outputs": [],
   "source": [
    "#| export\n",
    "def chunk_text(\n",
    "    text: str,  # text to chunk\n",
    "    calc_end_fns: Union[\n",
    "        List[Callable], None\n",
    "    ] = None,  # list of functions to calculate the end of a chunk\n",
    "    chunk_size: int = 5000,\n",
    "    debug_prn: bool = False,\n",
    ") -> List[str]:\n",
    "\n",
    "    calc_end_fns = calc_end_fns or default_calc_end_fns\n",
    "    chunks = []\n",
    "    start = 0\n",
    "    text_length = len(text)\n",
    "\n",
    "    while start < text_length:\n",
    "        end = start + chunk_size\n",
    "\n",
    "        if end >= text_length:\n",
    "            chunks.append(text[start:].strip())\n",
    "            break\n",
    "\n",
    "        # handle code block\n",
    "        chunk = text[start:end]\n",
    "\n",
    "        end = (\n",
    "            functions_stop_on_value(\n",
    "                functions=calc_end_fns, chunk=chunk, chunk_size=chunk_size, start=start\n",
    "            )\n",
    "            or end\n",
    "        )\n",
    "\n",
    "        chunk = text[start:end].strip()\n",
    "\n",
    "        if chunk:\n",
    "            chunks.append(chunk)\n",
    "\n",
    "        start = max(start + 1, end)\n",
    "\n",
    "    if debug_prn:\n",
    "        print(\n",
    "            f\"Chunked {len(text)} character text into {len(chunks)} chunks of chunk_size {chunk_size}\"\n",
    "        )\n",
    "    return chunks"
   ]
  },
  {
   "cell_type": "code",
   "execution_count": 30,
   "metadata": {},
   "outputs": [],
   "source": [
    "#| hide\n",
    "nbdev.nbdev_export('./chunking.ipynb')"
   ]
  }
 ],
 "metadata": {
  "jupytext": {
   "split_at_heading": true
  },
  "kernelspec": {
   "display_name": "Python 3",
   "language": "python",
   "name": "python3"
  },
  "language_info": {
   "codemirror_mode": {
    "name": "ipython",
    "version": 3
   },
   "file_extension": ".py",
   "mimetype": "text/x-python",
   "name": "python",
   "nbconvert_exporter": "python",
   "pygments_lexer": "ipython3",
   "version": "3.12.1"
  }
 },
 "nbformat": 4,
 "nbformat_minor": 4
}
