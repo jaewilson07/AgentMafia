{
    "cells": [
        {
            "cell_type": "code",
            "execution_count": null,
            "metadata": {},
            "outputs": [],
            "source": [
                "#| default_exp utils.files"
            ]
        },
        {
            "cell_type": "markdown",
            "metadata": {},
            "source": [
                "# Default Title (change me)\n",
                "> Default description (change me)"
            ]
        },
        {
            "cell_type": "code",
            "execution_count": null,
            "metadata": {},
            "outputs": [],
            "source": [
                "#| export\n",
                "import os\n",
                "from frontmatter import Frontmatter\n",
                "import shutil"
            ]
        },
        {
            "cell_type": "code",
            "execution_count": null,
            "metadata": {},
            "outputs": [],
            "source": [
                "#| export\n",
                "def upsert_folder(folder_path: str, debug_prn: bool = False, replace_folder=False):\n",
                "\n",
                "    folder_path = os.path.dirname(folder_path)\n",
                "\n",
                "    if replace_folder and os.path.exists(folder_path) and os.path.isdir(folder_path):\n",
                "        folder_path = os.path.join(folder_path, \"\")\n",
                "        shutil.rmtree(folder_path)\n",
                "\n",
                "    if debug_prn:\n",
                "        print(\n",
                "            {\n",
                "                \"upsert_folder\": os.path.abspath(folder_path),\n",
                "                \"is_exist\": os.path.exists(folder_path),\n",
                "            }\n",
                "        )\n",
                "\n",
                "    if not os.path.exists(folder_path):\n",
                "        os.makedirs(folder_path)"
            ]
        },
        {
            "cell_type": "code",
            "execution_count": null,
            "metadata": {},
            "outputs": [],
            "source": [
                "#| export\n",
                "def read_md_from_disk(file_path):\n",
                "    data = Frontmatter.read_file(file_path)\n",
                "\n",
                "    return data[\"body\"], data[\"attributes\"]"
            ]
        },
        {
            "cell_type": "code",
            "execution_count": null,
            "metadata": {},
            "outputs": [],
            "source": [
                "# | export\n",
                "def save_to_disk(output_path: str, data, is_binary:bool = False, encoding=\"utf-8\", replace_folder=False):\n",
                "    upsert_folder(output_path, replace_folder=replace_folder)\n",
                "\n",
                "    if is_binary:\n",
                "        with open(output_path, \"wb\" ) as f:\n",
                "            f.write(data)\n",
                "    \n",
                "    with open(output_path, \"w\" , encoding=encoding) as f:\n",
                "        f.write(data)"
            ]
        },
        {
            "cell_type": "code",
            "execution_count": null,
            "metadata": {},
            "outputs": [],
            "source": [
                "#| hide\n",
                "nbdev.nbdev_export('./files.ipynb')"
            ]
        }
    ],
    "metadata": {
        "jupytext": {
            "split_at_heading": true
        },
        "kernelspec": {
            "display_name": "Python 3",
            "language": "python",
            "name": "python3"
        },
        "language_info": {
            "name": "python",
            "version": "3.12.1"
        }
    },
    "nbformat": 4,
    "nbformat_minor": 4
}
