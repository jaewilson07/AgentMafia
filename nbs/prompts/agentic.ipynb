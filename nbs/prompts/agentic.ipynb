{
    "cells": [
        {
            "cell_type": "code",
            "execution_count": 4,
            "metadata": {},
            "outputs": [],
            "source": [
                "#| default_exp prompts.agent"
            ]
        },
        {
            "cell_type": "markdown",
            "metadata": {},
            "source": [
                "# Default Title (change me)\n",
                "> Default description (change me)"
            ]
        },
        {
            "cell_type": "code",
            "execution_count": 5,
            "metadata": {},
            "outputs": [],
            "source": [
                "#| hide\n",
                "import nbdev"
            ]
        },
        {
            "cell_type": "code",
            "execution_count": 6,
            "metadata": {},
            "outputs": [],
            "source": [
                "#| export\n",
                "pydantic_agent_system_prompt = \"\"\"\n",
                "You are an expert at Pydantic AI - a Python AI agent framework that you have access to all the documentation to,\n",
                "including examples, an API reference, and other resources to help you build Pydantic AI agents.\n",
                "\n",
                "Your only job is to assist with this and you don't answer other questions besides describing what you are able to do.\n",
                "\n",
                "Don't ask the user before taking an action, just do it. Always make sure you look at the documentation with the provided tools before answering the user's question unless you have already.\n",
                "\n",
                "When you first look at the documentation, always start with RAG.\n",
                "Then also always check the list of available documentation pages and retrieve the content of page(s) if it'll help.\n",
                "\n",
                "Always let the user know when you didn't find the answer in the documentation or the right URL - be honest.\n",
                "\"\"\""
            ]
        },
        {
            "cell_type": "code",
            "execution_count": 7,
            "metadata": {},
            "outputs": [],
            "source": [
                "#| hide\n",
                "nbdev.nbdev_export('./agent.ipynb')"
            ]
        }
    ],
    "metadata": {
        "jupytext": {
            "split_at_heading": true
        },
        "kernelspec": {
            "display_name": "Python 3",
            "language": "python",
            "name": "python3"
        },
        "language_info": {
            "codemirror_mode": {
                "name": "ipython",
                "version": 3
            },
            "file_extension": ".py",
            "mimetype": "text/x-python",
            "name": "python",
            "nbconvert_exporter": "python",
            "pygments_lexer": "ipython3",
            "version": "3.12.1"
        }
    },
    "nbformat": 4,
    "nbformat_minor": 4
}
