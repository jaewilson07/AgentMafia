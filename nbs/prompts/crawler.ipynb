{
    "cells": [
        {
            "cell_type": "code",
            "execution_count": 2,
            "metadata": {},
            "outputs": [],
            "source": [
                "#| default_exp prompts.crawler"
            ]
        },
        {
            "cell_type": "markdown",
            "metadata": {},
            "source": [
                "# Default Title (change me)\n",
                "> Default description (change me)"
            ]
        },
        {
            "cell_type": "code",
            "execution_count": 3,
            "metadata": {},
            "outputs": [],
            "source": [
                "#| hide\n",
                "import nbdev\n"
            ]
        },
        {
            "cell_type": "code",
            "execution_count": 4,
            "metadata": {},
            "outputs": [],
            "source": [
                "#| export\n",
                "prompt_extract_title_and_summary = \"\"\"\n",
                "You are an AI that extracts titles and summaries from documentation chunks.\n",
                "Return a JSON object with 'title' and 'summary' keys.\n",
                "For the title: If this seems like the start of a document, extract its title. If it's a middle chunk, derive a descriptive title.\n",
                "For the summary: Create a concise summary of the main points in this chunk.\n",
                "Keep both title and summary concise but informative.  The text will be stored as markdown frontmatter so avoid the use of special characters.\n",
                "\"\"\""
            ]
        },
        {
            "cell_type": "code",
            "execution_count": 5,
            "metadata": {},
            "outputs": [],
            "source": [
                "#| hide\n",
                "nbdev.nbdev_export('./crawler.ipynb')"
            ]
        }
    ],
    "metadata": {
        "jupytext": {
            "split_at_heading": true
        },
        "kernelspec": {
            "display_name": "Python 3",
            "language": "python",
            "name": "python3"
        },
        "language_info": {
            "codemirror_mode": {
                "name": "ipython",
                "version": 3
            },
            "file_extension": ".py",
            "mimetype": "text/x-python",
            "name": "python",
            "nbconvert_exporter": "python",
            "pygments_lexer": "ipython3",
            "version": "3.12.1"
        }
    },
    "nbformat": 4,
    "nbformat_minor": 4
}
