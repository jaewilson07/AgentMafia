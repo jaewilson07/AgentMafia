{
 "cells": [
  {
   "cell_type": "code",
   "execution_count": 10,
   "metadata": {},
   "outputs": [],
   "source": [
    "#| default_exp client.ResponseGetData"
   ]
  },
  {
   "cell_type": "code",
   "execution_count": 11,
   "metadata": {},
   "outputs": [],
   "source": [
    "#| exporti\n",
    "from abc import ABC , abstractmethod\n",
    "from typing import Any, List\n",
    "from dataclasses import dataclass, field\n",
    "from abc import abstractmethod\n",
    "\n",
    "from slack_bolt.async_app import AsyncApp as AsyncSlackApp\n",
    "from slack_sdk.web.async_client import AsyncSlackResponse"
   ]
  },
  {
   "cell_type": "code",
   "execution_count": 12,
   "metadata": {},
   "outputs": [],
   "source": [
    "#| hide\n",
    "import nbdev"
   ]
  },
  {
   "cell_type": "code",
   "execution_count": 13,
   "metadata": {},
   "outputs": [],
   "source": [
    "#| export\n",
    "\n",
    "@dataclass\n",
    "class ResponseGetData(ABC):\n",
    "    is_success: bool\n",
    "    status : int\n",
    "    response : Any\n",
    "\n",
    "    @classmethod\n",
    "    def from_res(abstractmethod):\n",
    "        pass\n",
    "\n",
    "\n"
   ]
  },
  {
   "cell_type": "code",
   "execution_count": 14,
   "metadata": {},
   "outputs": [],
   "source": [
    "#| export\n",
    "@dataclass\n",
    "class ResponseGetDataOpenAi(ResponseGetData):\n",
    "    is_success: bool\n",
    "    status : int\n",
    "    response : Any\n",
    "    raw : AsyncSlackResponse = field(default = None, repr = False)\n",
    "\n",
    "    @classmethod\n",
    "    def from_res(cls, res: AsyncSlackResponse):\n",
    "        return cls(\n",
    "            is_success = True,\n",
    "            status = 200,\n",
    "            response = res.choices,\n",
    "            raw = res\n",
    "        )"
   ]
  },
  {
   "cell_type": "code",
   "execution_count": 15,
   "metadata": {},
   "outputs": [],
   "source": [
    "# | export\n",
    "\n",
    "\n",
    "@dataclass\n",
    "class ResponseGetDataCrawler(ResponseGetData):\n",
    "    is_success: bool\n",
    "    status: int\n",
    "    response: Any\n",
    "    url: str\n",
    "    html: Any = field(default=None, repr=False)\n",
    "    links: List[dict] = field(default_factory=list, repr=False)\n",
    "    markdown: Any = field(default=None, repr=False)\n",
    "    raw: Any = field(default=None, repr=False)\n",
    "\n",
    "    @classmethod\n",
    "    def from_res(cls, res):\n",
    "        return cls(\n",
    "            is_success=res[0].success,\n",
    "            status=res[0].status_code,\n",
    "            response=res[0],\n",
    "            url=res[0].url,\n",
    "            html=res[0].html,\n",
    "            links=res[0].links,\n",
    "            markdown=res[0].markdown,\n",
    "            raw=res,\n",
    "        )"
   ]
  },
  {
   "cell_type": "code",
   "execution_count": 16,
   "metadata": {},
   "outputs": [],
   "source": [
    "#| export \n",
    "\n",
    "\n",
    "@dataclass\n",
    "class ResponseGetDataSlack(ResponseGetData):\n",
    "    is_success: bool\n",
    "    status : int\n",
    "    response : Any\n",
    "\n",
    "    channel_id : str = None\n",
    "    message_id : float = None\n",
    "    app : AsyncSlackApp = field(repr = False , default = None)\n",
    "\n",
    "    @classmethod\n",
    "    def from_res(cls, res : AsyncSlackResponse, async_app :AsyncSlackApp, **kwargs):\n",
    "        return cls(\n",
    "            is_success=res[\"ok\"],\n",
    "            response=res.data,\n",
    "            status = res.status_code,\n",
    "            app = async_app,\n",
    "            **kwargs\n",
    "        )"
   ]
  },
  {
   "cell_type": "code",
   "execution_count": 17,
   "metadata": {},
   "outputs": [],
   "source": [
    "#| export\n",
    "@dataclass\n",
    "class ResponseGetDataSupabase(ResponseGetData):\n",
    "    is_success: bool\n",
    "    status : int\n",
    "    response : Any\n",
    "    raw:  Any  = field(repr = False, default = None)\n",
    "\n",
    "    @classmethod\n",
    "    def from_res(cls, res ):\n",
    "        is_success = False\n",
    "\n",
    "        if res.data:\n",
    "            is_success= True\n",
    "\n",
    "        return cls(\n",
    "            is_success=is_success,\n",
    "            response=res.data,\n",
    "            status = 200 if is_success else 400,\n",
    "            raw  = res\n",
    "        )"
   ]
  },
  {
   "cell_type": "code",
   "execution_count": 18,
   "metadata": {},
   "outputs": [],
   "source": [
    "#| hide\n",
    "nbdev.nbdev_export('./ResponseGetData.ipynb')"
   ]
  }
 ],
 "metadata": {
  "kernelspec": {
   "display_name": "Python 3",
   "language": "python",
   "name": "python3"
  },
  "language_info": {
   "codemirror_mode": {
    "name": "ipython",
    "version": 3
   },
   "file_extension": ".py",
   "mimetype": "text/x-python",
   "name": "python",
   "nbconvert_exporter": "python",
   "pygments_lexer": "ipython3",
   "version": "3.12.1"
  }
 },
 "nbformat": 4,
 "nbformat_minor": 2
}
