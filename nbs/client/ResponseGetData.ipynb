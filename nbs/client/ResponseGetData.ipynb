{
 "cells": [
  {
   "cell_type": "code",
   "execution_count": 23,
   "metadata": {},
   "outputs": [],
   "source": [
    "#| default_exp client.ResponseGetData"
   ]
  },
  {
   "cell_type": "code",
   "execution_count": 24,
   "metadata": {},
   "outputs": [],
   "source": [
    "#| exporti\n",
    "from typing import Any\n",
    "from dataclasses import dataclass, field\n",
    "from abc import abstractmethod\n",
    "\n",
    "from slack_bolt.async_app import AsyncApp as AsyncSlackApp\n",
    "from slack_sdk.web.async_client import AsyncSlackResponse"
   ]
  },
  {
   "cell_type": "code",
   "execution_count": 25,
   "metadata": {},
   "outputs": [],
   "source": [
    "#| hide\n",
    "import nbdev"
   ]
  },
  {
   "cell_type": "code",
   "execution_count": 26,
   "metadata": {},
   "outputs": [],
   "source": [
    "#| export\n",
    "\n",
    "@dataclass\n",
    "class ResponseGetData:\n",
    "    is_success: bool\n",
    "    status : int\n",
    "    response : Any\n",
    "\n",
    "    @abstractmethod\n",
    "    def from_res():\n",
    "        pass\n",
    "\n",
    "\n"
   ]
  },
  {
   "cell_type": "code",
   "execution_count": 27,
   "metadata": {},
   "outputs": [],
   "source": [
    "#| export \n",
    "\n",
    "\n",
    "@dataclass\n",
    "class ResponseGetDataSlack(ResponseGetData):\n",
    "    is_success: bool\n",
    "    status : int\n",
    "    response : Any\n",
    "\n",
    "    app : AsyncSlackApp = field(repr = False , default = None)\n",
    "\n",
    "    @classmethod\n",
    "    def from_res(cls, res : AsyncSlackResponse, async_app :AsyncSlackApp):\n",
    "        return ResponseGetDataSlack(\n",
    "            is_success=res[\"ok\"],\n",
    "            response=res.data,\n",
    "            status = res['status'],\n",
    "            app = async_app\n",
    "        )"
   ]
  },
  {
   "cell_type": "code",
   "execution_count": 28,
   "metadata": {},
   "outputs": [],
   "source": [
    "#| hide\n",
    "nbdev.nbdev_export('./ResponseGetData.ipynb')"
   ]
  }
 ],
 "metadata": {
  "kernelspec": {
   "display_name": "Python 3",
   "language": "python",
   "name": "python3"
  },
  "language_info": {
   "codemirror_mode": {
    "name": "ipython",
    "version": 3
   },
   "file_extension": ".py",
   "mimetype": "text/x-python",
   "name": "python",
   "nbconvert_exporter": "python",
   "pygments_lexer": "ipython3",
   "version": "3.12.1"
  }
 },
 "nbformat": 4,
 "nbformat_minor": 2
}
