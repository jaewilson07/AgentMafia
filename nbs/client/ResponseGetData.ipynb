{
 "cells": [
  {
   "cell_type": "code",
   "execution_count": 1,
   "metadata": {},
   "outputs": [],
   "source": [
    "#| default_exp client.ResponseGetData"
   ]
  },
  {
   "cell_type": "code",
   "execution_count": 2,
   "metadata": {},
   "outputs": [],
   "source": [
    "#| exporti\n",
    "from typing import Any\n",
    "from dataclasses import dataclass, field\n",
    "from abc import abstractmethod\n",
    "\n",
    "from slack_bolt.async_app import AsyncApp as AsyncSlackApp\n",
    "from slack_sdk.web.async_client import AsyncSlackResponse"
   ]
  },
  {
   "cell_type": "code",
   "execution_count": 3,
   "metadata": {},
   "outputs": [],
   "source": [
    "#| hide\n",
    "import nbdev"
   ]
  },
  {
   "cell_type": "code",
   "execution_count": 4,
   "metadata": {},
   "outputs": [],
   "source": [
    "#| export\n",
    "\n",
    "@dataclass\n",
    "class ResponseGetData:\n",
    "    is_success: bool\n",
    "    status : int\n",
    "    response : Any\n",
    "\n",
    "    @abstractmethod\n",
    "    def from_res():\n",
    "        pass\n",
    "\n",
    "\n"
   ]
  },
  {
   "cell_type": "code",
   "execution_count": 5,
   "metadata": {},
   "outputs": [],
   "source": [
    "#| export\n",
    "@dataclass\n",
    "\n",
    "class ResponseGetDataOpenAi(ResponseGetData):\n",
    "    is_success: bool\n",
    "    status : int\n",
    "    response : Any\n",
    "    raw : AsyncSlackResponse = field(default = None, repr = False)\n",
    "\n",
    "    @staticmethod\n",
    "    def from_res(res: AsyncSlackResponse):\n",
    "        return ResponseGetDataOpenAi(\n",
    "            is_success = True,\n",
    "            status = 200,\n",
    "            response = res.choices,\n",
    "            raw = res\n",
    "        )"
   ]
  },
  {
   "cell_type": "code",
   "execution_count": 6,
   "metadata": {},
   "outputs": [],
   "source": [
    "#| export \n",
    "\n",
    "\n",
    "@dataclass\n",
    "class ResponseGetDataSlack(ResponseGetData):\n",
    "    is_success: bool\n",
    "    status : int\n",
    "    response : Any\n",
    "\n",
    "    channel_id : str = None\n",
    "    message_id : float = None\n",
    "    app : AsyncSlackApp = field(repr = False , default = None)\n",
    "\n",
    "    @classmethod\n",
    "    def from_res(cls, res : AsyncSlackResponse, async_app :AsyncSlackApp, **kwargs):\n",
    "        return cls(\n",
    "            is_success=res[\"ok\"],\n",
    "            response=res.data,\n",
    "            status = res.status_code,\n",
    "            app = async_app,\n",
    "            **kwargs\n",
    "        )"
   ]
  },
  {
   "cell_type": "code",
   "execution_count": null,
   "metadata": {},
   "outputs": [],
   "source": [
    "#| export\n",
    "@dataclass\n",
    "class ResponseGetDataSupabase(ResponseGetData):\n",
    "    is_success: bool\n",
    "    status : int\n",
    "    response : Any\n",
    "    raw:  Any  = field(repr = False, default = None)\n",
    "\n",
    "    @classmethod\n",
    "    def from_res(cls, res ):\n",
    "        is_success = False\n",
    "\n",
    "        if res.data:\n",
    "            is_success= True\n",
    "\n",
    "        return cls(\n",
    "            is_success=is_success,\n",
    "            response=res.data,\n",
    "            status = 200 if is_success else 400,\n",
    "            raw  = res\n",
    "        )"
   ]
  },
  {
   "cell_type": "code",
   "execution_count": 9,
   "metadata": {},
   "outputs": [],
   "source": [
    "#| hide\n",
    "nbdev.nbdev_export('./ResponseGetData.ipynb')"
   ]
  }
 ],
 "metadata": {
  "kernelspec": {
   "display_name": "Python 3",
   "language": "python",
   "name": "python3"
  },
  "language_info": {
   "codemirror_mode": {
    "name": "ipython",
    "version": 3
   },
   "file_extension": ".py",
   "mimetype": "text/x-python",
   "name": "python",
   "nbconvert_exporter": "python",
   "pygments_lexer": "ipython3",
   "version": "3.12.1"
  }
 },
 "nbformat": 4,
 "nbformat_minor": 2
}
