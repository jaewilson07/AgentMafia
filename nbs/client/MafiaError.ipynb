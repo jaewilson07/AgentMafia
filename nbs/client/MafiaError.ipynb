{
    "cells": [
        {
            "cell_type": "code",
            "execution_count": 5,
            "metadata": {},
            "outputs": [],
            "source": [
                "#| default_exp client.MafiaError"
            ]
        },
        {
            "cell_type": "markdown",
            "metadata": {},
            "source": [
                "# Default Title (change me)\n",
                "> Default description (change me)"
            ]
        },
        {
            "cell_type": "code",
            "execution_count": 1,
            "metadata": {},
            "outputs": [],
            "source": [
                "#|hide\n",
                "import nbdev"
            ]
        },
        {
            "cell_type": "code",
            "execution_count": 2,
            "metadata": {},
            "outputs": [],
            "source": [
                "#| export\n",
                "def generate_error_message(message=None, exception=None):\n",
                "\n",
                "    if exception:\n",
                "        if message == None:\n",
                "            message = str(exception)\n",
                "\n",
                "        template = f\"An exception of type {type(exception) and type(exception).__name__ or 'unknown'} occurred.\"\n",
                "\n",
                "        if exception.args:\n",
                "            template += f\" Arguments: {','.join(str(arg) for arg in exception.args if arg and str(arg))}\"\n",
                "\n",
                "        message = f\"{message}\\n{template}\"\n",
                "\n",
                "    if not message.startswith(\"💀\"):\n",
                "        message = \"💀  \" + message\n",
                "\n",
                "    return message"
            ]
        },
        {
            "cell_type": "code",
            "execution_count": 3,
            "metadata": {},
            "outputs": [],
            "source": [
                "#| export\n",
                "class MafiaError(Exception):\n",
                "    def __init__(self, message=None, exception=None):\n",
                "\n",
                "        super().__init__(generate_error_message(message=message, exception=exception))"
            ]
        },
        {
            "cell_type": "code",
            "execution_count": 4,
            "metadata": {},
            "outputs": [],
            "source": [
                "#| hide\n",
                "nbdev.nbdev_export('./MafiaError.ipynb')"
            ]
        }
    ],
    "metadata": {
        "jupytext": {
            "split_at_heading": true
        },
        "kernelspec": {
            "display_name": "Python 3",
            "language": "python",
            "name": "python3"
        },
        "language_info": {
            "codemirror_mode": {
                "name": "ipython",
                "version": 3
            },
            "file_extension": ".py",
            "mimetype": "text/x-python",
            "name": "python",
            "nbconvert_exporter": "python",
            "pygments_lexer": "ipython3",
            "version": "3.12.1"
        }
    },
    "nbformat": 4,
    "nbformat_minor": 4
}
